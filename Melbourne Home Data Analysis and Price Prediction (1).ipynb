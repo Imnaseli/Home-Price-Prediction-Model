{
 "cells": [
  {
   "cell_type": "markdown",
   "id": "c339d010",
   "metadata": {},
   "source": [
    "### Melbourne Home Data Analysis (Price Prediction)\n",
    "#### Written by Ilesanmi Oluwasijibomi\n",
    " Home price prediction module entirely written with Python programming langueage on the Jupyter notebook"
   ]
  },
  {
   "cell_type": "code",
   "execution_count": 947,
   "id": "6bf5dc2d",
   "metadata": {},
   "outputs": [],
   "source": [
    "import pandas as pd\n",
    "import numpy as np\n",
    "import math\n",
    "import matplotlib.pyplot as plt\n",
    "import seaborn as sns"
   ]
  },
  {
   "cell_type": "markdown",
   "id": "aca5fa73",
   "metadata": {},
   "source": [
    "## Import Data"
   ]
  },
  {
   "cell_type": "markdown",
   "id": "14f67add",
   "metadata": {},
   "source": [
    " The data was downloaded from Kaggle.com ()"
   ]
  },
  {
   "cell_type": "code",
   "execution_count": 948,
   "id": "627e2bc0",
   "metadata": {},
   "outputs": [],
   "source": [
    "melb_data_path='desktop/melb_data.csv'\n",
    "melbdata= pd.read_csv(melb_data_path)"
   ]
  },
  {
   "cell_type": "code",
   "execution_count": 949,
   "id": "fa4f79ba",
   "metadata": {},
   "outputs": [
    {
     "data": {
      "text/html": [
       "<div>\n",
       "<style scoped>\n",
       "    .dataframe tbody tr th:only-of-type {\n",
       "        vertical-align: middle;\n",
       "    }\n",
       "\n",
       "    .dataframe tbody tr th {\n",
       "        vertical-align: top;\n",
       "    }\n",
       "\n",
       "    .dataframe thead th {\n",
       "        text-align: right;\n",
       "    }\n",
       "</style>\n",
       "<table border=\"1\" class=\"dataframe\">\n",
       "  <thead>\n",
       "    <tr style=\"text-align: right;\">\n",
       "      <th></th>\n",
       "      <th>Suburb</th>\n",
       "      <th>Address</th>\n",
       "      <th>Rooms</th>\n",
       "      <th>Type</th>\n",
       "      <th>Price</th>\n",
       "      <th>Method</th>\n",
       "      <th>SellerG</th>\n",
       "      <th>Date</th>\n",
       "      <th>Distance</th>\n",
       "      <th>Postcode</th>\n",
       "      <th>...</th>\n",
       "      <th>Bathroom</th>\n",
       "      <th>Car</th>\n",
       "      <th>Landsize</th>\n",
       "      <th>BuildingArea</th>\n",
       "      <th>YearBuilt</th>\n",
       "      <th>CouncilArea</th>\n",
       "      <th>Lattitude</th>\n",
       "      <th>Longtitude</th>\n",
       "      <th>Regionname</th>\n",
       "      <th>Propertycount</th>\n",
       "    </tr>\n",
       "  </thead>\n",
       "  <tbody>\n",
       "    <tr>\n",
       "      <th>0</th>\n",
       "      <td>Abbotsford</td>\n",
       "      <td>85 Turner St</td>\n",
       "      <td>2</td>\n",
       "      <td>h</td>\n",
       "      <td>1480000</td>\n",
       "      <td>S</td>\n",
       "      <td>Biggin</td>\n",
       "      <td>3/12/2016</td>\n",
       "      <td>2.5</td>\n",
       "      <td>3067</td>\n",
       "      <td>...</td>\n",
       "      <td>1</td>\n",
       "      <td>1.0</td>\n",
       "      <td>202</td>\n",
       "      <td>NaN</td>\n",
       "      <td>NaN</td>\n",
       "      <td>Yarra</td>\n",
       "      <td>-37.800</td>\n",
       "      <td>144.998</td>\n",
       "      <td>Northern Metropolitan</td>\n",
       "      <td>4019</td>\n",
       "    </tr>\n",
       "    <tr>\n",
       "      <th>1</th>\n",
       "      <td>Abbotsford</td>\n",
       "      <td>25 Bloomburg St</td>\n",
       "      <td>2</td>\n",
       "      <td>h</td>\n",
       "      <td>1035000</td>\n",
       "      <td>S</td>\n",
       "      <td>Biggin</td>\n",
       "      <td>4/2/2016</td>\n",
       "      <td>2.5</td>\n",
       "      <td>3067</td>\n",
       "      <td>...</td>\n",
       "      <td>1</td>\n",
       "      <td>1.0</td>\n",
       "      <td>156</td>\n",
       "      <td>79.0</td>\n",
       "      <td>1900.0</td>\n",
       "      <td>Yarra</td>\n",
       "      <td>-37.808</td>\n",
       "      <td>144.993</td>\n",
       "      <td>Northern Metropolitan</td>\n",
       "      <td>4019</td>\n",
       "    </tr>\n",
       "    <tr>\n",
       "      <th>2</th>\n",
       "      <td>Abbotsford</td>\n",
       "      <td>5 Charles St</td>\n",
       "      <td>3</td>\n",
       "      <td>h</td>\n",
       "      <td>1465000</td>\n",
       "      <td>SP</td>\n",
       "      <td>Biggin</td>\n",
       "      <td>4/3/2017</td>\n",
       "      <td>2.5</td>\n",
       "      <td>3067</td>\n",
       "      <td>...</td>\n",
       "      <td>2</td>\n",
       "      <td>1.0</td>\n",
       "      <td>134</td>\n",
       "      <td>150.0</td>\n",
       "      <td>1900.0</td>\n",
       "      <td>Yarra</td>\n",
       "      <td>-37.809</td>\n",
       "      <td>144.994</td>\n",
       "      <td>Northern Metropolitan</td>\n",
       "      <td>4019</td>\n",
       "    </tr>\n",
       "    <tr>\n",
       "      <th>3</th>\n",
       "      <td>Abbotsford</td>\n",
       "      <td>40 Federation La</td>\n",
       "      <td>3</td>\n",
       "      <td>h</td>\n",
       "      <td>850000</td>\n",
       "      <td>PI</td>\n",
       "      <td>Biggin</td>\n",
       "      <td>4/3/2017</td>\n",
       "      <td>2.5</td>\n",
       "      <td>3067</td>\n",
       "      <td>...</td>\n",
       "      <td>2</td>\n",
       "      <td>1.0</td>\n",
       "      <td>94</td>\n",
       "      <td>NaN</td>\n",
       "      <td>NaN</td>\n",
       "      <td>Yarra</td>\n",
       "      <td>-37.797</td>\n",
       "      <td>144.997</td>\n",
       "      <td>Northern Metropolitan</td>\n",
       "      <td>4019</td>\n",
       "    </tr>\n",
       "  </tbody>\n",
       "</table>\n",
       "<p>4 rows × 21 columns</p>\n",
       "</div>"
      ],
      "text/plain": [
       "       Suburb           Address  Rooms Type    Price Method SellerG  \\\n",
       "0  Abbotsford      85 Turner St      2    h  1480000      S  Biggin   \n",
       "1  Abbotsford   25 Bloomburg St      2    h  1035000      S  Biggin   \n",
       "2  Abbotsford      5 Charles St      3    h  1465000     SP  Biggin   \n",
       "3  Abbotsford  40 Federation La      3    h   850000     PI  Biggin   \n",
       "\n",
       "        Date  Distance  Postcode  ...  Bathroom  Car  Landsize  BuildingArea  \\\n",
       "0  3/12/2016       2.5      3067  ...         1  1.0       202           NaN   \n",
       "1   4/2/2016       2.5      3067  ...         1  1.0       156          79.0   \n",
       "2   4/3/2017       2.5      3067  ...         2  1.0       134         150.0   \n",
       "3   4/3/2017       2.5      3067  ...         2  1.0        94           NaN   \n",
       "\n",
       "   YearBuilt  CouncilArea Lattitude  Longtitude             Regionname  \\\n",
       "0        NaN        Yarra   -37.800     144.998  Northern Metropolitan   \n",
       "1     1900.0        Yarra   -37.808     144.993  Northern Metropolitan   \n",
       "2     1900.0        Yarra   -37.809     144.994  Northern Metropolitan   \n",
       "3        NaN        Yarra   -37.797     144.997  Northern Metropolitan   \n",
       "\n",
       "  Propertycount  \n",
       "0          4019  \n",
       "1          4019  \n",
       "2          4019  \n",
       "3          4019  \n",
       "\n",
       "[4 rows x 21 columns]"
      ]
     },
     "execution_count": 949,
     "metadata": {},
     "output_type": "execute_result"
    }
   ],
   "source": [
    "melbdata.head(4)"
   ]
  },
  {
   "cell_type": "markdown",
   "id": "0b7fb41a",
   "metadata": {},
   "source": [
    "Lets get a brief statistical Desrciption of the dataset"
   ]
  },
  {
   "cell_type": "code",
   "execution_count": 950,
   "id": "3fd7d751",
   "metadata": {},
   "outputs": [
    {
     "data": {
      "text/html": [
       "<div>\n",
       "<style scoped>\n",
       "    .dataframe tbody tr th:only-of-type {\n",
       "        vertical-align: middle;\n",
       "    }\n",
       "\n",
       "    .dataframe tbody tr th {\n",
       "        vertical-align: top;\n",
       "    }\n",
       "\n",
       "    .dataframe thead th {\n",
       "        text-align: right;\n",
       "    }\n",
       "</style>\n",
       "<table border=\"1\" class=\"dataframe\">\n",
       "  <thead>\n",
       "    <tr style=\"text-align: right;\">\n",
       "      <th></th>\n",
       "      <th>Rooms</th>\n",
       "      <th>Price</th>\n",
       "      <th>Distance</th>\n",
       "      <th>Postcode</th>\n",
       "      <th>Bedroom2</th>\n",
       "      <th>Bathroom</th>\n",
       "      <th>Car</th>\n",
       "      <th>Landsize</th>\n",
       "      <th>BuildingArea</th>\n",
       "      <th>YearBuilt</th>\n",
       "      <th>Lattitude</th>\n",
       "      <th>Longtitude</th>\n",
       "      <th>Propertycount</th>\n",
       "    </tr>\n",
       "  </thead>\n",
       "  <tbody>\n",
       "    <tr>\n",
       "      <th>count</th>\n",
       "      <td>13580.000000</td>\n",
       "      <td>1.358000e+04</td>\n",
       "      <td>13580.000000</td>\n",
       "      <td>13580.000000</td>\n",
       "      <td>13580.000000</td>\n",
       "      <td>13580.000000</td>\n",
       "      <td>13571.000000</td>\n",
       "      <td>13580.000000</td>\n",
       "      <td>7130.000000</td>\n",
       "      <td>8205.000000</td>\n",
       "      <td>13580.000000</td>\n",
       "      <td>13580.000000</td>\n",
       "      <td>13580.000000</td>\n",
       "    </tr>\n",
       "    <tr>\n",
       "      <th>mean</th>\n",
       "      <td>2.937997</td>\n",
       "      <td>1.075684e+06</td>\n",
       "      <td>10.137776</td>\n",
       "      <td>3105.301915</td>\n",
       "      <td>2.914728</td>\n",
       "      <td>1.534242</td>\n",
       "      <td>1.019158</td>\n",
       "      <td>558.416127</td>\n",
       "      <td>151.967650</td>\n",
       "      <td>1964.684217</td>\n",
       "      <td>-37.809238</td>\n",
       "      <td>144.995249</td>\n",
       "      <td>7454.417378</td>\n",
       "    </tr>\n",
       "    <tr>\n",
       "      <th>std</th>\n",
       "      <td>0.955748</td>\n",
       "      <td>6.393107e+05</td>\n",
       "      <td>5.868725</td>\n",
       "      <td>90.676964</td>\n",
       "      <td>0.965921</td>\n",
       "      <td>0.691712</td>\n",
       "      <td>0.202966</td>\n",
       "      <td>3990.669241</td>\n",
       "      <td>541.014538</td>\n",
       "      <td>37.273762</td>\n",
       "      <td>0.079261</td>\n",
       "      <td>0.103915</td>\n",
       "      <td>4378.581772</td>\n",
       "    </tr>\n",
       "    <tr>\n",
       "      <th>min</th>\n",
       "      <td>1.000000</td>\n",
       "      <td>8.500000e+04</td>\n",
       "      <td>0.000000</td>\n",
       "      <td>3000.000000</td>\n",
       "      <td>0.000000</td>\n",
       "      <td>0.000000</td>\n",
       "      <td>0.000000</td>\n",
       "      <td>0.000000</td>\n",
       "      <td>0.000000</td>\n",
       "      <td>1196.000000</td>\n",
       "      <td>-38.183000</td>\n",
       "      <td>144.432000</td>\n",
       "      <td>249.000000</td>\n",
       "    </tr>\n",
       "    <tr>\n",
       "      <th>25%</th>\n",
       "      <td>2.000000</td>\n",
       "      <td>6.500000e+05</td>\n",
       "      <td>6.100000</td>\n",
       "      <td>3044.000000</td>\n",
       "      <td>2.000000</td>\n",
       "      <td>1.000000</td>\n",
       "      <td>1.000000</td>\n",
       "      <td>177.000000</td>\n",
       "      <td>93.000000</td>\n",
       "      <td>1940.000000</td>\n",
       "      <td>-37.857000</td>\n",
       "      <td>144.930000</td>\n",
       "      <td>4380.000000</td>\n",
       "    </tr>\n",
       "    <tr>\n",
       "      <th>50%</th>\n",
       "      <td>3.000000</td>\n",
       "      <td>9.030000e+05</td>\n",
       "      <td>9.200000</td>\n",
       "      <td>3084.000000</td>\n",
       "      <td>3.000000</td>\n",
       "      <td>1.000000</td>\n",
       "      <td>1.000000</td>\n",
       "      <td>440.000000</td>\n",
       "      <td>126.000000</td>\n",
       "      <td>1970.000000</td>\n",
       "      <td>-37.802000</td>\n",
       "      <td>145.000000</td>\n",
       "      <td>6555.000000</td>\n",
       "    </tr>\n",
       "    <tr>\n",
       "      <th>75%</th>\n",
       "      <td>3.000000</td>\n",
       "      <td>1.330000e+06</td>\n",
       "      <td>13.000000</td>\n",
       "      <td>3148.000000</td>\n",
       "      <td>3.000000</td>\n",
       "      <td>2.000000</td>\n",
       "      <td>1.000000</td>\n",
       "      <td>651.000000</td>\n",
       "      <td>174.000000</td>\n",
       "      <td>1999.000000</td>\n",
       "      <td>-37.756000</td>\n",
       "      <td>145.058000</td>\n",
       "      <td>10331.000000</td>\n",
       "    </tr>\n",
       "    <tr>\n",
       "      <th>max</th>\n",
       "      <td>10.000000</td>\n",
       "      <td>9.000000e+06</td>\n",
       "      <td>48.100000</td>\n",
       "      <td>3977.000000</td>\n",
       "      <td>20.000000</td>\n",
       "      <td>8.000000</td>\n",
       "      <td>10.000000</td>\n",
       "      <td>433014.000000</td>\n",
       "      <td>44515.000000</td>\n",
       "      <td>2018.000000</td>\n",
       "      <td>-37.409000</td>\n",
       "      <td>145.526000</td>\n",
       "      <td>21650.000000</td>\n",
       "    </tr>\n",
       "  </tbody>\n",
       "</table>\n",
       "</div>"
      ],
      "text/plain": [
       "              Rooms         Price      Distance      Postcode      Bedroom2  \\\n",
       "count  13580.000000  1.358000e+04  13580.000000  13580.000000  13580.000000   \n",
       "mean       2.937997  1.075684e+06     10.137776   3105.301915      2.914728   \n",
       "std        0.955748  6.393107e+05      5.868725     90.676964      0.965921   \n",
       "min        1.000000  8.500000e+04      0.000000   3000.000000      0.000000   \n",
       "25%        2.000000  6.500000e+05      6.100000   3044.000000      2.000000   \n",
       "50%        3.000000  9.030000e+05      9.200000   3084.000000      3.000000   \n",
       "75%        3.000000  1.330000e+06     13.000000   3148.000000      3.000000   \n",
       "max       10.000000  9.000000e+06     48.100000   3977.000000     20.000000   \n",
       "\n",
       "           Bathroom           Car       Landsize  BuildingArea    YearBuilt  \\\n",
       "count  13580.000000  13571.000000   13580.000000   7130.000000  8205.000000   \n",
       "mean       1.534242      1.019158     558.416127    151.967650  1964.684217   \n",
       "std        0.691712      0.202966    3990.669241    541.014538    37.273762   \n",
       "min        0.000000      0.000000       0.000000      0.000000  1196.000000   \n",
       "25%        1.000000      1.000000     177.000000     93.000000  1940.000000   \n",
       "50%        1.000000      1.000000     440.000000    126.000000  1970.000000   \n",
       "75%        2.000000      1.000000     651.000000    174.000000  1999.000000   \n",
       "max        8.000000     10.000000  433014.000000  44515.000000  2018.000000   \n",
       "\n",
       "          Lattitude    Longtitude  Propertycount  \n",
       "count  13580.000000  13580.000000   13580.000000  \n",
       "mean     -37.809238    144.995249    7454.417378  \n",
       "std        0.079261      0.103915    4378.581772  \n",
       "min      -38.183000    144.432000     249.000000  \n",
       "25%      -37.857000    144.930000    4380.000000  \n",
       "50%      -37.802000    145.000000    6555.000000  \n",
       "75%      -37.756000    145.058000   10331.000000  \n",
       "max      -37.409000    145.526000   21650.000000  "
      ]
     },
     "execution_count": 950,
     "metadata": {},
     "output_type": "execute_result"
    }
   ],
   "source": [
    "melbdata.describe()"
   ]
  },
  {
   "cell_type": "markdown",
   "id": "d8156b5b",
   "metadata": {},
   "source": [
    "i honestly dont understand the Price variables"
   ]
  },
  {
   "cell_type": "code",
   "execution_count": 951,
   "id": "88464023",
   "metadata": {},
   "outputs": [
    {
     "data": {
      "text/plain": [
       "count      13580\n",
       "mean     1075684\n",
       "std       639310\n",
       "min        85000\n",
       "25%       650000\n",
       "50%       903000\n",
       "75%      1330000\n",
       "max      9000000\n",
       "Name: Price, dtype: int32"
      ]
     },
     "execution_count": 951,
     "metadata": {},
     "output_type": "execute_result"
    }
   ],
   "source": [
    "pricestats=melbdata['Price'].describe().copy()\n",
    "pricestats = pricestats.astype('int')\n",
    "pricestats"
   ]
  },
  {
   "cell_type": "markdown",
   "id": "7ceaf6f9",
   "metadata": {},
   "source": [
    "### Lets visualize our data and get some insights:"
   ]
  },
  {
   "cell_type": "code",
   "execution_count": 952,
   "id": "2306b684",
   "metadata": {},
   "outputs": [
    {
     "data": {
      "text/plain": [
       "Text(0.5, 1.0, 'Plot of Price and Rooms ')"
      ]
     },
     "execution_count": 952,
     "metadata": {},
     "output_type": "execute_result"
    },
    {
     "data": {
      "image/png": "[encoded data removed]",
      "text/plain": [
       "<Figure size 792x360 with 1 Axes>"
      ]
     },
     "metadata": {
      "needs_background": "light"
     },
     "output_type": "display_data"
    }
   ],
   "source": [
    "plt.figure(figsize=(11,5))\n",
    "sns.lineplot(x=melbdata[\"Rooms\"],y=melbdata[\"Price\"])\n",
    "plt.title(\"Plot of Price and Rooms \")\n"
   ]
  },
  {
   "cell_type": "code",
   "execution_count": 953,
   "id": "b32cbb7d",
   "metadata": {},
   "outputs": [
    {
     "data": {
      "text/plain": [
       "Text(0.5, 1.0, 'Plot of Price and Bathroom')"
      ]
     },
     "execution_count": 953,
     "metadata": {},
     "output_type": "execute_result"
    },
    {
     "data": {
      "image/png": "[encoded data removed]",
      "text/plain": [
       "<Figure size 792x360 with 1 Axes>"
      ]
     },
     "metadata": {
      "needs_background": "light"
     },
     "output_type": "display_data"
    }
   ],
   "source": [
    "plt.figure(figsize=(11,5))\n",
    "sns.lineplot(x=melbdata[\"Bathroom\"],y=melbdata[\"Price\"])\n",
    "plt.title(\"Plot of Price and Bathroom\")"
   ]
  },
  {
   "cell_type": "code",
   "execution_count": 954,
   "id": "6aef0cfc",
   "metadata": {},
   "outputs": [
    {
     "data": {
      "text/plain": [
       "Text(0.5, 1.0, 'Plot of Price and Type')"
      ]
     },
     "execution_count": 954,
     "metadata": {},
     "output_type": "execute_result"
    },
    {
     "data": {
      "image/png": "[encoded data removed]",
      "text/plain": [
       "<Figure size 792x360 with 1 Axes>"
      ]
     },
     "metadata": {
      "needs_background": "light"
     },
     "output_type": "display_data"
    }
   ],
   "source": [
    "plt.figure(figsize=(11,5))\n",
    "sns.lineplot(x=melbdata[\"Type\"],y=melbdata[\"Price\"])\n",
    "plt.title(\"Plot of Price and Type\")"
   ]
  },
  {
   "cell_type": "code",
   "execution_count": 955,
   "id": "0a63a356",
   "metadata": {},
   "outputs": [
    {
     "data": {
      "text/plain": [
       "Text(0.5, 1.0, 'Plot of Price and Bedroom')"
      ]
     },
     "execution_count": 955,
     "metadata": {},
     "output_type": "execute_result"
    },
    {
     "data": {
      "image/png": "[encoded data removed]",
      "text/plain": [
       "<Figure size 792x360 with 1 Axes>"
      ]
     },
     "metadata": {
      "needs_background": "light"
     },
     "output_type": "display_data"
    }
   ],
   "source": [
    "plt.figure(figsize=(11,5))\n",
    "sns.lineplot(x=melbdata[\"Bedroom2\"],y=melbdata[\"Price\"])\n",
    "plt.title(\"Plot of Price and Bedroom\")"
   ]
  },
  {
   "cell_type": "code",
   "execution_count": 956,
   "id": "197e298f",
   "metadata": {},
   "outputs": [
    {
     "data": {
      "text/plain": [
       "Text(0.5, 1.0, 'Plot of Price and Car')"
      ]
     },
     "execution_count": 956,
     "metadata": {},
     "output_type": "execute_result"
    },
    {
     "data": {
      "image/png": "[encoded data removed]",
      "text/plain": [
       "<Figure size 792x360 with 1 Axes>"
      ]
     },
     "metadata": {
      "needs_background": "light"
     },
     "output_type": "display_data"
    }
   ],
   "source": [
    "plt.figure(figsize=(11,5))\n",
    "sns.lineplot(x=melbdata[\"Car\"],y=melbdata[\"Price\"])\n",
    "plt.title(\"Plot of Price and Car\")    "
   ]
  },
  {
   "cell_type": "code",
   "execution_count": 957,
   "id": "8d18f5e1",
   "metadata": {},
   "outputs": [
    {
     "data": {
      "text/plain": [
       "Text(0.5, 1.0, 'Plot of Price and Method')"
      ]
     },
     "execution_count": 957,
     "metadata": {},
     "output_type": "execute_result"
    },
    {
     "data": {
      "image/png": "[encoded data removed]",
      "text/plain": [
       "<Figure size 792x360 with 1 Axes>"
      ]
     },
     "metadata": {
      "needs_background": "light"
     },
     "output_type": "display_data"
    }
   ],
   "source": [
    "plt.figure(figsize=(11,5))\n",
    "sns.lineplot(x=melbdata[\"Method\"],y=melbdata[\"Price\"])\n",
    "plt.title(\"Plot of Price and Method\") "
   ]
  },
  {
   "cell_type": "code",
   "execution_count": 958,
   "id": "1699cfef",
   "metadata": {},
   "outputs": [
    {
     "data": {
      "text/plain": [
       "Text(0.5, 1.0, 'barplot of Price and Regionname ')"
      ]
     },
     "execution_count": 958,
     "metadata": {},
     "output_type": "execute_result"
    },
    {
     "data": {
      "image/png": "[encoded data removed]",
      "text/plain": [
       "<Figure size 1188x360 with 1 Axes>"
      ]
     },
     "metadata": {
      "needs_background": "light"
     },
     "output_type": "display_data"
    }
   ],
   "source": [
    "plt.figure(figsize=(16.5,5))\n",
    "sns.lineplot(x=melbdata[\"Regionname\"],y=melbdata[\"Price\"])\n",
    "plt.title(\"barplot of Price and Regionname \")"
   ]
  },
  {
   "cell_type": "code",
   "execution_count": 959,
   "id": "450151d0",
   "metadata": {},
   "outputs": [
    {
     "data": {
      "text/plain": [
       "Text(0.5, 1.0, 'barplot of Price and Landsize')"
      ]
     },
     "execution_count": 959,
     "metadata": {},
     "output_type": "execute_result"
    },
    {
     "data": {
      "image/png": "[encoded data removed]",
      "text/plain": [
       "<Figure size 792x360 with 1 Axes>"
      ]
     },
     "metadata": {
      "needs_background": "light"
     },
     "output_type": "display_data"
    }
   ],
   "source": [
    "plt.figure(figsize=(11,5))\n",
    "sns.regplot(x=melbdata[\"Landsize\"],y=melbdata[\"Price\"])\n",
    "plt.title(\"barplot of Price and Landsize\")"
   ]
  },
  {
   "cell_type": "markdown",
   "id": "a0c75f6d",
   "metadata": {},
   "source": [
    "This graph has a suspected invalid variable which is the landsize that is greater than 400000.\n",
    "Let us get the price of the record with this landsize"
   ]
  },
  {
   "cell_type": "code",
   "execution_count": 960,
   "id": "5ebaf0bb",
   "metadata": {},
   "outputs": [
    {
     "data": {
      "text/html": [
       "<div>\n",
       "<style scoped>\n",
       "    .dataframe tbody tr th:only-of-type {\n",
       "        vertical-align: middle;\n",
       "    }\n",
       "\n",
       "    .dataframe tbody tr th {\n",
       "        vertical-align: top;\n",
       "    }\n",
       "\n",
       "    .dataframe thead th {\n",
       "        text-align: right;\n",
       "    }\n",
       "</style>\n",
       "<table border=\"1\" class=\"dataframe\">\n",
       "  <thead>\n",
       "    <tr style=\"text-align: right;\">\n",
       "      <th></th>\n",
       "      <th>Suburb</th>\n",
       "      <th>Address</th>\n",
       "      <th>Rooms</th>\n",
       "      <th>Type</th>\n",
       "      <th>Price</th>\n",
       "      <th>Method</th>\n",
       "      <th>SellerG</th>\n",
       "      <th>Date</th>\n",
       "      <th>Distance</th>\n",
       "      <th>Postcode</th>\n",
       "      <th>...</th>\n",
       "      <th>Bathroom</th>\n",
       "      <th>Car</th>\n",
       "      <th>Landsize</th>\n",
       "      <th>BuildingArea</th>\n",
       "      <th>YearBuilt</th>\n",
       "      <th>CouncilArea</th>\n",
       "      <th>Lattitude</th>\n",
       "      <th>Longtitude</th>\n",
       "      <th>Regionname</th>\n",
       "      <th>Propertycount</th>\n",
       "    </tr>\n",
       "  </thead>\n",
       "  <tbody>\n",
       "    <tr>\n",
       "      <th>11020</th>\n",
       "      <td>Fitzroy</td>\n",
       "      <td>389 Gore St</td>\n",
       "      <td>3</td>\n",
       "      <td>h</td>\n",
       "      <td>2700000</td>\n",
       "      <td>VB</td>\n",
       "      <td>Kay</td>\n",
       "      <td>12/8/2017</td>\n",
       "      <td>2.1</td>\n",
       "      <td>3065</td>\n",
       "      <td>...</td>\n",
       "      <td>3</td>\n",
       "      <td>1.0</td>\n",
       "      <td>433014</td>\n",
       "      <td>NaN</td>\n",
       "      <td>NaN</td>\n",
       "      <td>Yarra</td>\n",
       "      <td>-37.798</td>\n",
       "      <td>144.983</td>\n",
       "      <td>Northern Metropolitan</td>\n",
       "      <td>5825</td>\n",
       "    </tr>\n",
       "  </tbody>\n",
       "</table>\n",
       "<p>1 rows × 21 columns</p>\n",
       "</div>"
      ],
      "text/plain": [
       "        Suburb      Address  Rooms Type    Price Method SellerG       Date  \\\n",
       "11020  Fitzroy  389 Gore St      3    h  2700000     VB     Kay  12/8/2017   \n",
       "\n",
       "       Distance  Postcode  ...  Bathroom  Car  Landsize  BuildingArea  \\\n",
       "11020       2.1      3065  ...         3  1.0    433014           NaN   \n",
       "\n",
       "       YearBuilt  CouncilArea Lattitude  Longtitude             Regionname  \\\n",
       "11020        NaN        Yarra   -37.798     144.983  Northern Metropolitan   \n",
       "\n",
       "      Propertycount  \n",
       "11020          5825  \n",
       "\n",
       "[1 rows x 21 columns]"
      ]
     },
     "execution_count": 960,
     "metadata": {},
     "output_type": "execute_result"
    }
   ],
   "source": [
    "melbdata.loc[melbdata[\"Landsize\"] > 400000]"
   ]
  },
  {
   "cell_type": "markdown",
   "id": "b363f638",
   "metadata": {},
   "source": [
    "Let us drop the row and see if that has significant changes"
   ]
  },
  {
   "cell_type": "code",
   "execution_count": 961,
   "id": "adecef54",
   "metadata": {},
   "outputs": [
    {
     "data": {
      "text/plain": [
       "Text(0.5, 1.0, 'barplot of Price and Landsize')"
      ]
     },
     "execution_count": 961,
     "metadata": {},
     "output_type": "execute_result"
    },
    {
     "data": {
      "image/png": "[encoded data removed]",
      "text/plain": [
       "<Figure size 792x360 with 1 Axes>"
      ]
     },
     "metadata": {
      "needs_background": "light"
     },
     "output_type": "display_data"
    }
   ],
   "source": [
    "x = [11020 ]\n",
    "melbdatalandsize = melbdata.drop(x,axis=0)\n",
    "plt.figure(figsize=(11,5))\n",
    "sns.regplot(x=melbdatalandsize[\"Landsize\"],y=melbdatalandsize[\"Price\"])\n",
    "plt.title(\"barplot of Price and Landsize\")"
   ]
  },
  {
   "cell_type": "code",
   "execution_count": 962,
   "id": "4c50f2a8",
   "metadata": {},
   "outputs": [
    {
     "data": {
      "text/plain": [
       "Text(0.5, 1.0, 'barplot of Price and BuildingArea')"
      ]
     },
     "execution_count": 962,
     "metadata": {},
     "output_type": "execute_result"
    },
    {
     "data": {
      "image/png": "[encoded data removed]",
      "text/plain": [
       "<Figure size 792x360 with 1 Axes>"
      ]
     },
     "metadata": {
      "needs_background": "light"
     },
     "output_type": "display_data"
    }
   ],
   "source": [
    "plt.figure(figsize=(11,5))\n",
    "sns.regplot(x=melbdata[\"BuildingArea\"],y=melbdata[\"Price\"])\n",
    "plt.title(\"barplot of Price and BuildingArea\")"
   ]
  },
  {
   "cell_type": "markdown",
   "id": "119f6ca5",
   "metadata": {},
   "source": [
    "This graph too has a variable that is suspected to be invalid"
   ]
  },
  {
   "cell_type": "code",
   "execution_count": 963,
   "id": "4a1340d0",
   "metadata": {},
   "outputs": [
    {
     "data": {
      "text/html": [
       "<div>\n",
       "<style scoped>\n",
       "    .dataframe tbody tr th:only-of-type {\n",
       "        vertical-align: middle;\n",
       "    }\n",
       "\n",
       "    .dataframe tbody tr th {\n",
       "        vertical-align: top;\n",
       "    }\n",
       "\n",
       "    .dataframe thead th {\n",
       "        text-align: right;\n",
       "    }\n",
       "</style>\n",
       "<table border=\"1\" class=\"dataframe\">\n",
       "  <thead>\n",
       "    <tr style=\"text-align: right;\">\n",
       "      <th></th>\n",
       "      <th>Suburb</th>\n",
       "      <th>Address</th>\n",
       "      <th>Rooms</th>\n",
       "      <th>Type</th>\n",
       "      <th>Price</th>\n",
       "      <th>Method</th>\n",
       "      <th>SellerG</th>\n",
       "      <th>Date</th>\n",
       "      <th>Distance</th>\n",
       "      <th>Postcode</th>\n",
       "      <th>...</th>\n",
       "      <th>Bathroom</th>\n",
       "      <th>Car</th>\n",
       "      <th>Landsize</th>\n",
       "      <th>BuildingArea</th>\n",
       "      <th>YearBuilt</th>\n",
       "      <th>CouncilArea</th>\n",
       "      <th>Lattitude</th>\n",
       "      <th>Longtitude</th>\n",
       "      <th>Regionname</th>\n",
       "      <th>Propertycount</th>\n",
       "    </tr>\n",
       "  </thead>\n",
       "  <tbody>\n",
       "    <tr>\n",
       "      <th>1484</th>\n",
       "      <td>Bulleen</td>\n",
       "      <td>19 Warringal St</td>\n",
       "      <td>4</td>\n",
       "      <td>h</td>\n",
       "      <td>1280000</td>\n",
       "      <td>S</td>\n",
       "      <td>Barry</td>\n",
       "      <td>11/3/2017</td>\n",
       "      <td>11.8</td>\n",
       "      <td>3105</td>\n",
       "      <td>...</td>\n",
       "      <td>1</td>\n",
       "      <td>1.0</td>\n",
       "      <td>732</td>\n",
       "      <td>6791.0</td>\n",
       "      <td>NaN</td>\n",
       "      <td>Manningham</td>\n",
       "      <td>-37.762</td>\n",
       "      <td>145.090</td>\n",
       "      <td>Eastern Metropolitan</td>\n",
       "      <td>4480</td>\n",
       "    </tr>\n",
       "    <tr>\n",
       "      <th>1588</th>\n",
       "      <td>Camberwell</td>\n",
       "      <td>46 Athelstan Rd</td>\n",
       "      <td>5</td>\n",
       "      <td>h</td>\n",
       "      <td>2608000</td>\n",
       "      <td>S</td>\n",
       "      <td>Marshall</td>\n",
       "      <td>15/10/2016</td>\n",
       "      <td>7.8</td>\n",
       "      <td>3124</td>\n",
       "      <td>...</td>\n",
       "      <td>2</td>\n",
       "      <td>1.0</td>\n",
       "      <td>730</td>\n",
       "      <td>3112.0</td>\n",
       "      <td>1920.0</td>\n",
       "      <td>Boroondara</td>\n",
       "      <td>-37.842</td>\n",
       "      <td>145.064</td>\n",
       "      <td>Southern Metropolitan</td>\n",
       "      <td>8920</td>\n",
       "    </tr>\n",
       "    <tr>\n",
       "      <th>2560</th>\n",
       "      <td>Fitzroy North</td>\n",
       "      <td>186 Queens Pde</td>\n",
       "      <td>2</td>\n",
       "      <td>t</td>\n",
       "      <td>930000</td>\n",
       "      <td>S</td>\n",
       "      <td>Nelson</td>\n",
       "      <td>3/9/2016</td>\n",
       "      <td>3.5</td>\n",
       "      <td>3068</td>\n",
       "      <td>...</td>\n",
       "      <td>3</td>\n",
       "      <td>1.0</td>\n",
       "      <td>2778</td>\n",
       "      <td>3558.0</td>\n",
       "      <td>NaN</td>\n",
       "      <td>Yarra</td>\n",
       "      <td>-37.790</td>\n",
       "      <td>144.986</td>\n",
       "      <td>Northern Metropolitan</td>\n",
       "      <td>6244</td>\n",
       "    </tr>\n",
       "    <tr>\n",
       "      <th>13245</th>\n",
       "      <td>New Gisborne</td>\n",
       "      <td>71 Hamilton Rd</td>\n",
       "      <td>5</td>\n",
       "      <td>h</td>\n",
       "      <td>1355000</td>\n",
       "      <td>S</td>\n",
       "      <td>Raine</td>\n",
       "      <td>23/09/2017</td>\n",
       "      <td>48.1</td>\n",
       "      <td>3438</td>\n",
       "      <td>...</td>\n",
       "      <td>3</td>\n",
       "      <td>1.0</td>\n",
       "      <td>44500</td>\n",
       "      <td>44515.0</td>\n",
       "      <td>NaN</td>\n",
       "      <td>NaN</td>\n",
       "      <td>-37.454</td>\n",
       "      <td>144.589</td>\n",
       "      <td>Northern Victoria</td>\n",
       "      <td>849</td>\n",
       "    </tr>\n",
       "  </tbody>\n",
       "</table>\n",
       "<p>4 rows × 21 columns</p>\n",
       "</div>"
      ],
      "text/plain": [
       "              Suburb          Address  Rooms Type    Price Method   SellerG  \\\n",
       "1484         Bulleen  19 Warringal St      4    h  1280000      S     Barry   \n",
       "1588      Camberwell  46 Athelstan Rd      5    h  2608000      S  Marshall   \n",
       "2560   Fitzroy North   186 Queens Pde      2    t   930000      S    Nelson   \n",
       "13245   New Gisborne   71 Hamilton Rd      5    h  1355000      S     Raine   \n",
       "\n",
       "             Date  Distance  Postcode  ...  Bathroom  Car  Landsize  \\\n",
       "1484    11/3/2017      11.8      3105  ...         1  1.0       732   \n",
       "1588   15/10/2016       7.8      3124  ...         2  1.0       730   \n",
       "2560     3/9/2016       3.5      3068  ...         3  1.0      2778   \n",
       "13245  23/09/2017      48.1      3438  ...         3  1.0     44500   \n",
       "\n",
       "       BuildingArea  YearBuilt  CouncilArea Lattitude  Longtitude  \\\n",
       "1484         6791.0        NaN   Manningham   -37.762     145.090   \n",
       "1588         3112.0     1920.0   Boroondara   -37.842     145.064   \n",
       "2560         3558.0        NaN        Yarra   -37.790     144.986   \n",
       "13245       44515.0        NaN          NaN   -37.454     144.589   \n",
       "\n",
       "                  Regionname Propertycount  \n",
       "1484    Eastern Metropolitan          4480  \n",
       "1588   Southern Metropolitan          8920  \n",
       "2560   Northern Metropolitan          6244  \n",
       "13245      Northern Victoria           849  \n",
       "\n",
       "[4 rows x 21 columns]"
      ]
     },
     "execution_count": 963,
     "metadata": {},
     "output_type": "execute_result"
    }
   ],
   "source": [
    "x = (melbdata.loc[melbdata[\"BuildingArea\"] > 2000])\n",
    "x"
   ]
  },
  {
   "cell_type": "markdown",
   "id": "af764dc1",
   "metadata": {},
   "source": [
    "\n",
    "Let us drop the row and see if that has significant changes"
   ]
  },
  {
   "cell_type": "code",
   "execution_count": 964,
   "id": "67470a70",
   "metadata": {},
   "outputs": [
    {
     "data": {
      "text/plain": [
       "Text(0.5, 1.0, 'barplot of Price and BuildingArea')"
      ]
     },
     "execution_count": 964,
     "metadata": {},
     "output_type": "execute_result"
    },
    {
     "data": {
      "image/png": "[encoded data removed]",
      "text/plain": [
       "<Figure size 792x360 with 1 Axes>"
      ]
     },
     "metadata": {
      "needs_background": "light"
     },
     "output_type": "display_data"
    }
   ],
   "source": [
    "x = [1484,1588,2560,13245]\n",
    "melbdatabuilding = melbdata.drop(x,axis=0) \n",
    "plt.figure(figsize=(11,5))\n",
    "sns.regplot(x=melbdatabuilding[\"BuildingArea\"],y=melbdatabuilding[\"Price\"])\n",
    "plt.title(\"barplot of Price and BuildingArea\")"
   ]
  },
  {
   "cell_type": "code",
   "execution_count": 965,
   "id": "bc45886a",
   "metadata": {},
   "outputs": [
    {
     "data": {
      "text/plain": [
       "Text(0.5, 1.0, 'barplot of Price and YearBuilt')"
      ]
     },
     "execution_count": 965,
     "metadata": {},
     "output_type": "execute_result"
    },
    {
     "data": {
      "image/png": "[encoded data removed]",
      "text/plain": [
       "<Figure size 792x360 with 1 Axes>"
      ]
     },
     "metadata": {
      "needs_background": "light"
     },
     "output_type": "display_data"
    }
   ],
   "source": [
    "plt.figure(figsize=(11,5))\n",
    "sns.regplot(x=melbdata[\"YearBuilt\"],y=melbdata[\"Price\"])\n",
    "plt.title(\"barplot of Price and YearBuilt\")"
   ]
  },
  {
   "cell_type": "markdown",
   "id": "641240b6",
   "metadata": {},
   "source": [
    "##### According to our graphs,\n",
    "1.We can see Yearbuilt has a negative correlation, The Buildings that were constructed earlier are more expensive than later constructed buildings.\n",
    "\n",
    "2.We also see that Building area has a positive correlation with the price of the Buildings (which makes sense).\n",
    "\n",
    "3.We see that Landsize too has a positive correlation with the price.\n",
    "\n",
    "4.We also see that the most expensive buildings are Located at the Southern Metropolitan and the cheapest are Located at the Western Metropolitan.\n",
    "\n",
    "5.We also see that the most expensive houses have space for 5 cars.\n",
    "We see that the most expensive buildingd have 5-7 Rooms and 7 bathrooms.\n"
   ]
  },
  {
   "cell_type": "markdown",
   "id": "df7f6d35",
   "metadata": {},
   "source": [
    "# Transform Data"
   ]
  },
  {
   "cell_type": "markdown",
   "id": "0cf24de0",
   "metadata": {},
   "source": [
    "The dataset has some useful variables such as \"Type\" and \"Method\" but will be more useful as integer values for the Regression"
   ]
  },
  {
   "cell_type": "code",
   "execution_count": 966,
   "id": "eff65f51",
   "metadata": {},
   "outputs": [],
   "source": [
    "hu=pd.get_dummies(melbdata[\"Type\"])"
   ]
  },
  {
   "cell_type": "code",
   "execution_count": 967,
   "id": "62a7a0a6",
   "metadata": {},
   "outputs": [
    {
     "data": {
      "text/html": [
       "<div>\n",
       "<style scoped>\n",
       "    .dataframe tbody tr th:only-of-type {\n",
       "        vertical-align: middle;\n",
       "    }\n",
       "\n",
       "    .dataframe tbody tr th {\n",
       "        vertical-align: top;\n",
       "    }\n",
       "\n",
       "    .dataframe thead th {\n",
       "        text-align: right;\n",
       "    }\n",
       "</style>\n",
       "<table border=\"1\" class=\"dataframe\">\n",
       "  <thead>\n",
       "    <tr style=\"text-align: right;\">\n",
       "      <th></th>\n",
       "      <th>h</th>\n",
       "      <th>t</th>\n",
       "      <th>u</th>\n",
       "    </tr>\n",
       "  </thead>\n",
       "  <tbody>\n",
       "    <tr>\n",
       "      <th>0</th>\n",
       "      <td>1</td>\n",
       "      <td>0</td>\n",
       "      <td>0</td>\n",
       "    </tr>\n",
       "    <tr>\n",
       "      <th>1</th>\n",
       "      <td>1</td>\n",
       "      <td>0</td>\n",
       "      <td>0</td>\n",
       "    </tr>\n",
       "    <tr>\n",
       "      <th>2</th>\n",
       "      <td>1</td>\n",
       "      <td>0</td>\n",
       "      <td>0</td>\n",
       "    </tr>\n",
       "  </tbody>\n",
       "</table>\n",
       "</div>"
      ],
      "text/plain": [
       "   h  t  u\n",
       "0  1  0  0\n",
       "1  1  0  0\n",
       "2  1  0  0"
      ]
     },
     "execution_count": 967,
     "metadata": {},
     "output_type": "execute_result"
    }
   ],
   "source": [
    "hu.head(3)"
   ]
  },
  {
   "cell_type": "code",
   "execution_count": 968,
   "id": "f5fc1630",
   "metadata": {},
   "outputs": [],
   "source": [
    "meth=pd.get_dummies(melbdata[\"Method\"])"
   ]
  },
  {
   "cell_type": "code",
   "execution_count": 969,
   "id": "04b9b6c7",
   "metadata": {},
   "outputs": [
    {
     "data": {
      "text/html": [
       "<div>\n",
       "<style scoped>\n",
       "    .dataframe tbody tr th:only-of-type {\n",
       "        vertical-align: middle;\n",
       "    }\n",
       "\n",
       "    .dataframe tbody tr th {\n",
       "        vertical-align: top;\n",
       "    }\n",
       "\n",
       "    .dataframe thead th {\n",
       "        text-align: right;\n",
       "    }\n",
       "</style>\n",
       "<table border=\"1\" class=\"dataframe\">\n",
       "  <thead>\n",
       "    <tr style=\"text-align: right;\">\n",
       "      <th></th>\n",
       "      <th>PI</th>\n",
       "      <th>S</th>\n",
       "      <th>SA</th>\n",
       "      <th>SP</th>\n",
       "      <th>VB</th>\n",
       "    </tr>\n",
       "  </thead>\n",
       "  <tbody>\n",
       "    <tr>\n",
       "      <th>0</th>\n",
       "      <td>0</td>\n",
       "      <td>1</td>\n",
       "      <td>0</td>\n",
       "      <td>0</td>\n",
       "      <td>0</td>\n",
       "    </tr>\n",
       "    <tr>\n",
       "      <th>1</th>\n",
       "      <td>0</td>\n",
       "      <td>1</td>\n",
       "      <td>0</td>\n",
       "      <td>0</td>\n",
       "      <td>0</td>\n",
       "    </tr>\n",
       "    <tr>\n",
       "      <th>2</th>\n",
       "      <td>0</td>\n",
       "      <td>0</td>\n",
       "      <td>0</td>\n",
       "      <td>1</td>\n",
       "      <td>0</td>\n",
       "    </tr>\n",
       "    <tr>\n",
       "      <th>3</th>\n",
       "      <td>1</td>\n",
       "      <td>0</td>\n",
       "      <td>0</td>\n",
       "      <td>0</td>\n",
       "      <td>0</td>\n",
       "    </tr>\n",
       "    <tr>\n",
       "      <th>4</th>\n",
       "      <td>0</td>\n",
       "      <td>0</td>\n",
       "      <td>0</td>\n",
       "      <td>0</td>\n",
       "      <td>1</td>\n",
       "    </tr>\n",
       "  </tbody>\n",
       "</table>\n",
       "</div>"
      ],
      "text/plain": [
       "   PI  S  SA  SP  VB\n",
       "0   0  1   0   0   0\n",
       "1   0  1   0   0   0\n",
       "2   0  0   0   1   0\n",
       "3   1  0   0   0   0\n",
       "4   0  0   0   0   1"
      ]
     },
     "execution_count": 969,
     "metadata": {},
     "output_type": "execute_result"
    }
   ],
   "source": [
    "meth.head(5)"
   ]
  },
  {
   "cell_type": "code",
   "execution_count": 970,
   "id": "ad5de15e",
   "metadata": {},
   "outputs": [
    {
     "data": {
      "text/html": [
       "<div>\n",
       "<style scoped>\n",
       "    .dataframe tbody tr th:only-of-type {\n",
       "        vertical-align: middle;\n",
       "    }\n",
       "\n",
       "    .dataframe tbody tr th {\n",
       "        vertical-align: top;\n",
       "    }\n",
       "\n",
       "    .dataframe thead th {\n",
       "        text-align: right;\n",
       "    }\n",
       "</style>\n",
       "<table border=\"1\" class=\"dataframe\">\n",
       "  <thead>\n",
       "    <tr style=\"text-align: right;\">\n",
       "      <th></th>\n",
       "      <th>PI</th>\n",
       "      <th>S</th>\n",
       "      <th>SA</th>\n",
       "      <th>SP</th>\n",
       "      <th>VB</th>\n",
       "    </tr>\n",
       "  </thead>\n",
       "  <tbody>\n",
       "    <tr>\n",
       "      <th>0</th>\n",
       "      <td>0</td>\n",
       "      <td>1</td>\n",
       "      <td>0</td>\n",
       "      <td>0</td>\n",
       "      <td>0</td>\n",
       "    </tr>\n",
       "    <tr>\n",
       "      <th>1</th>\n",
       "      <td>0</td>\n",
       "      <td>1</td>\n",
       "      <td>0</td>\n",
       "      <td>0</td>\n",
       "      <td>0</td>\n",
       "    </tr>\n",
       "    <tr>\n",
       "      <th>2</th>\n",
       "      <td>0</td>\n",
       "      <td>0</td>\n",
       "      <td>0</td>\n",
       "      <td>1</td>\n",
       "      <td>0</td>\n",
       "    </tr>\n",
       "    <tr>\n",
       "      <th>3</th>\n",
       "      <td>1</td>\n",
       "      <td>0</td>\n",
       "      <td>0</td>\n",
       "      <td>0</td>\n",
       "      <td>0</td>\n",
       "    </tr>\n",
       "    <tr>\n",
       "      <th>4</th>\n",
       "      <td>0</td>\n",
       "      <td>0</td>\n",
       "      <td>0</td>\n",
       "      <td>0</td>\n",
       "      <td>1</td>\n",
       "    </tr>\n",
       "  </tbody>\n",
       "</table>\n",
       "</div>"
      ],
      "text/plain": [
       "   PI  S  SA  SP  VB\n",
       "0   0  1   0   0   0\n",
       "1   0  1   0   0   0\n",
       "2   0  0   0   1   0\n",
       "3   1  0   0   0   0\n",
       "4   0  0   0   0   1"
      ]
     },
     "execution_count": 970,
     "metadata": {},
     "output_type": "execute_result"
    }
   ],
   "source": [
    "meth.head(5)"
   ]
  },
  {
   "cell_type": "code",
   "execution_count": 971,
   "id": "4f948dca",
   "metadata": {},
   "outputs": [],
   "source": [
    "melbdata[\"Car\"] = melbdata[\"Car\"].astype(float , errors = 'raise')"
   ]
  },
  {
   "cell_type": "code",
   "execution_count": 972,
   "id": "93955d4e",
   "metadata": {},
   "outputs": [
    {
     "data": {
      "text/html": [
       "<div>\n",
       "<style scoped>\n",
       "    .dataframe tbody tr th:only-of-type {\n",
       "        vertical-align: middle;\n",
       "    }\n",
       "\n",
       "    .dataframe tbody tr th {\n",
       "        vertical-align: top;\n",
       "    }\n",
       "\n",
       "    .dataframe thead th {\n",
       "        text-align: right;\n",
       "    }\n",
       "</style>\n",
       "<table border=\"1\" class=\"dataframe\">\n",
       "  <thead>\n",
       "    <tr style=\"text-align: right;\">\n",
       "      <th></th>\n",
       "      <th>Suburb</th>\n",
       "      <th>Address</th>\n",
       "      <th>Rooms</th>\n",
       "      <th>Type</th>\n",
       "      <th>Price</th>\n",
       "      <th>Method</th>\n",
       "      <th>SellerG</th>\n",
       "      <th>Date</th>\n",
       "      <th>Distance</th>\n",
       "      <th>Postcode</th>\n",
       "      <th>...</th>\n",
       "      <th>Bathroom</th>\n",
       "      <th>Car</th>\n",
       "      <th>Landsize</th>\n",
       "      <th>BuildingArea</th>\n",
       "      <th>YearBuilt</th>\n",
       "      <th>CouncilArea</th>\n",
       "      <th>Lattitude</th>\n",
       "      <th>Longtitude</th>\n",
       "      <th>Regionname</th>\n",
       "      <th>Propertycount</th>\n",
       "    </tr>\n",
       "  </thead>\n",
       "  <tbody>\n",
       "    <tr>\n",
       "      <th>13577</th>\n",
       "      <td>Williamstown</td>\n",
       "      <td>83 Power St</td>\n",
       "      <td>3</td>\n",
       "      <td>h</td>\n",
       "      <td>1170000</td>\n",
       "      <td>S</td>\n",
       "      <td>Raine</td>\n",
       "      <td>26/08/2017</td>\n",
       "      <td>6.8</td>\n",
       "      <td>3016</td>\n",
       "      <td>...</td>\n",
       "      <td>2</td>\n",
       "      <td>4.0</td>\n",
       "      <td>436</td>\n",
       "      <td>NaN</td>\n",
       "      <td>1997.0</td>\n",
       "      <td>NaN</td>\n",
       "      <td>-37.853</td>\n",
       "      <td>144.887</td>\n",
       "      <td>Western Metropolitan</td>\n",
       "      <td>6380</td>\n",
       "    </tr>\n",
       "    <tr>\n",
       "      <th>13578</th>\n",
       "      <td>Williamstown</td>\n",
       "      <td>96 Verdon St</td>\n",
       "      <td>4</td>\n",
       "      <td>h</td>\n",
       "      <td>2500000</td>\n",
       "      <td>PI</td>\n",
       "      <td>Sweeney</td>\n",
       "      <td>26/08/2017</td>\n",
       "      <td>6.8</td>\n",
       "      <td>3016</td>\n",
       "      <td>...</td>\n",
       "      <td>1</td>\n",
       "      <td>5.0</td>\n",
       "      <td>866</td>\n",
       "      <td>157.0</td>\n",
       "      <td>1920.0</td>\n",
       "      <td>NaN</td>\n",
       "      <td>-37.859</td>\n",
       "      <td>144.893</td>\n",
       "      <td>Western Metropolitan</td>\n",
       "      <td>6380</td>\n",
       "    </tr>\n",
       "    <tr>\n",
       "      <th>13579</th>\n",
       "      <td>Yarraville</td>\n",
       "      <td>6 Agnes St</td>\n",
       "      <td>4</td>\n",
       "      <td>h</td>\n",
       "      <td>1285000</td>\n",
       "      <td>SP</td>\n",
       "      <td>Village</td>\n",
       "      <td>26/08/2017</td>\n",
       "      <td>6.3</td>\n",
       "      <td>3013</td>\n",
       "      <td>...</td>\n",
       "      <td>1</td>\n",
       "      <td>1.0</td>\n",
       "      <td>362</td>\n",
       "      <td>112.0</td>\n",
       "      <td>1920.0</td>\n",
       "      <td>NaN</td>\n",
       "      <td>-37.812</td>\n",
       "      <td>144.884</td>\n",
       "      <td>Western Metropolitan</td>\n",
       "      <td>6543</td>\n",
       "    </tr>\n",
       "  </tbody>\n",
       "</table>\n",
       "<p>3 rows × 21 columns</p>\n",
       "</div>"
      ],
      "text/plain": [
       "             Suburb       Address  Rooms Type    Price Method  SellerG  \\\n",
       "13577  Williamstown   83 Power St      3    h  1170000      S    Raine   \n",
       "13578  Williamstown  96 Verdon St      4    h  2500000     PI  Sweeney   \n",
       "13579    Yarraville    6 Agnes St      4    h  1285000     SP  Village   \n",
       "\n",
       "             Date  Distance  Postcode  ...  Bathroom  Car  Landsize  \\\n",
       "13577  26/08/2017       6.8      3016  ...         2  4.0       436   \n",
       "13578  26/08/2017       6.8      3016  ...         1  5.0       866   \n",
       "13579  26/08/2017       6.3      3013  ...         1  1.0       362   \n",
       "\n",
       "       BuildingArea  YearBuilt  CouncilArea Lattitude  Longtitude  \\\n",
       "13577           NaN     1997.0          NaN   -37.853     144.887   \n",
       "13578         157.0     1920.0          NaN   -37.859     144.893   \n",
       "13579         112.0     1920.0          NaN   -37.812     144.884   \n",
       "\n",
       "                 Regionname Propertycount  \n",
       "13577  Western Metropolitan          6380  \n",
       "13578  Western Metropolitan          6380  \n",
       "13579  Western Metropolitan          6543  \n",
       "\n",
       "[3 rows x 21 columns]"
      ]
     },
     "execution_count": 972,
     "metadata": {},
     "output_type": "execute_result"
    }
   ],
   "source": [
    "melbdata.tail(3)"
   ]
  },
  {
   "cell_type": "code",
   "execution_count": 973,
   "id": "fd5f2af1",
   "metadata": {},
   "outputs": [],
   "source": [
    "melbdata=pd.concat([melbdata,meth,hu],axis=1)"
   ]
  },
  {
   "cell_type": "code",
   "execution_count": 974,
   "id": "450fd426",
   "metadata": {},
   "outputs": [
    {
     "data": {
      "text/html": [
       "<div>\n",
       "<style scoped>\n",
       "    .dataframe tbody tr th:only-of-type {\n",
       "        vertical-align: middle;\n",
       "    }\n",
       "\n",
       "    .dataframe tbody tr th {\n",
       "        vertical-align: top;\n",
       "    }\n",
       "\n",
       "    .dataframe thead th {\n",
       "        text-align: right;\n",
       "    }\n",
       "</style>\n",
       "<table border=\"1\" class=\"dataframe\">\n",
       "  <thead>\n",
       "    <tr style=\"text-align: right;\">\n",
       "      <th></th>\n",
       "      <th>Suburb</th>\n",
       "      <th>Address</th>\n",
       "      <th>Rooms</th>\n",
       "      <th>Type</th>\n",
       "      <th>Price</th>\n",
       "      <th>Method</th>\n",
       "      <th>SellerG</th>\n",
       "      <th>Date</th>\n",
       "      <th>Distance</th>\n",
       "      <th>Postcode</th>\n",
       "      <th>...</th>\n",
       "      <th>Regionname</th>\n",
       "      <th>Propertycount</th>\n",
       "      <th>PI</th>\n",
       "      <th>S</th>\n",
       "      <th>SA</th>\n",
       "      <th>SP</th>\n",
       "      <th>VB</th>\n",
       "      <th>h</th>\n",
       "      <th>t</th>\n",
       "      <th>u</th>\n",
       "    </tr>\n",
       "  </thead>\n",
       "  <tbody>\n",
       "    <tr>\n",
       "      <th>0</th>\n",
       "      <td>Abbotsford</td>\n",
       "      <td>85 Turner St</td>\n",
       "      <td>2</td>\n",
       "      <td>h</td>\n",
       "      <td>1480000</td>\n",
       "      <td>S</td>\n",
       "      <td>Biggin</td>\n",
       "      <td>3/12/2016</td>\n",
       "      <td>2.5</td>\n",
       "      <td>3067</td>\n",
       "      <td>...</td>\n",
       "      <td>Northern Metropolitan</td>\n",
       "      <td>4019</td>\n",
       "      <td>0</td>\n",
       "      <td>1</td>\n",
       "      <td>0</td>\n",
       "      <td>0</td>\n",
       "      <td>0</td>\n",
       "      <td>1</td>\n",
       "      <td>0</td>\n",
       "      <td>0</td>\n",
       "    </tr>\n",
       "    <tr>\n",
       "      <th>1</th>\n",
       "      <td>Abbotsford</td>\n",
       "      <td>25 Bloomburg St</td>\n",
       "      <td>2</td>\n",
       "      <td>h</td>\n",
       "      <td>1035000</td>\n",
       "      <td>S</td>\n",
       "      <td>Biggin</td>\n",
       "      <td>4/2/2016</td>\n",
       "      <td>2.5</td>\n",
       "      <td>3067</td>\n",
       "      <td>...</td>\n",
       "      <td>Northern Metropolitan</td>\n",
       "      <td>4019</td>\n",
       "      <td>0</td>\n",
       "      <td>1</td>\n",
       "      <td>0</td>\n",
       "      <td>0</td>\n",
       "      <td>0</td>\n",
       "      <td>1</td>\n",
       "      <td>0</td>\n",
       "      <td>0</td>\n",
       "    </tr>\n",
       "    <tr>\n",
       "      <th>2</th>\n",
       "      <td>Abbotsford</td>\n",
       "      <td>5 Charles St</td>\n",
       "      <td>3</td>\n",
       "      <td>h</td>\n",
       "      <td>1465000</td>\n",
       "      <td>SP</td>\n",
       "      <td>Biggin</td>\n",
       "      <td>4/3/2017</td>\n",
       "      <td>2.5</td>\n",
       "      <td>3067</td>\n",
       "      <td>...</td>\n",
       "      <td>Northern Metropolitan</td>\n",
       "      <td>4019</td>\n",
       "      <td>0</td>\n",
       "      <td>0</td>\n",
       "      <td>0</td>\n",
       "      <td>1</td>\n",
       "      <td>0</td>\n",
       "      <td>1</td>\n",
       "      <td>0</td>\n",
       "      <td>0</td>\n",
       "    </tr>\n",
       "    <tr>\n",
       "      <th>3</th>\n",
       "      <td>Abbotsford</td>\n",
       "      <td>40 Federation La</td>\n",
       "      <td>3</td>\n",
       "      <td>h</td>\n",
       "      <td>850000</td>\n",
       "      <td>PI</td>\n",
       "      <td>Biggin</td>\n",
       "      <td>4/3/2017</td>\n",
       "      <td>2.5</td>\n",
       "      <td>3067</td>\n",
       "      <td>...</td>\n",
       "      <td>Northern Metropolitan</td>\n",
       "      <td>4019</td>\n",
       "      <td>1</td>\n",
       "      <td>0</td>\n",
       "      <td>0</td>\n",
       "      <td>0</td>\n",
       "      <td>0</td>\n",
       "      <td>1</td>\n",
       "      <td>0</td>\n",
       "      <td>0</td>\n",
       "    </tr>\n",
       "    <tr>\n",
       "      <th>4</th>\n",
       "      <td>Abbotsford</td>\n",
       "      <td>55a Park St</td>\n",
       "      <td>4</td>\n",
       "      <td>h</td>\n",
       "      <td>1600000</td>\n",
       "      <td>VB</td>\n",
       "      <td>Nelson</td>\n",
       "      <td>4/6/2016</td>\n",
       "      <td>2.5</td>\n",
       "      <td>3067</td>\n",
       "      <td>...</td>\n",
       "      <td>Northern Metropolitan</td>\n",
       "      <td>4019</td>\n",
       "      <td>0</td>\n",
       "      <td>0</td>\n",
       "      <td>0</td>\n",
       "      <td>0</td>\n",
       "      <td>1</td>\n",
       "      <td>1</td>\n",
       "      <td>0</td>\n",
       "      <td>0</td>\n",
       "    </tr>\n",
       "    <tr>\n",
       "      <th>...</th>\n",
       "      <td>...</td>\n",
       "      <td>...</td>\n",
       "      <td>...</td>\n",
       "      <td>...</td>\n",
       "      <td>...</td>\n",
       "      <td>...</td>\n",
       "      <td>...</td>\n",
       "      <td>...</td>\n",
       "      <td>...</td>\n",
       "      <td>...</td>\n",
       "      <td>...</td>\n",
       "      <td>...</td>\n",
       "      <td>...</td>\n",
       "      <td>...</td>\n",
       "      <td>...</td>\n",
       "      <td>...</td>\n",
       "      <td>...</td>\n",
       "      <td>...</td>\n",
       "      <td>...</td>\n",
       "      <td>...</td>\n",
       "      <td>...</td>\n",
       "    </tr>\n",
       "    <tr>\n",
       "      <th>13575</th>\n",
       "      <td>Wheelers Hill</td>\n",
       "      <td>12 Strada Cr</td>\n",
       "      <td>4</td>\n",
       "      <td>h</td>\n",
       "      <td>1245000</td>\n",
       "      <td>S</td>\n",
       "      <td>Barry</td>\n",
       "      <td>26/08/2017</td>\n",
       "      <td>16.7</td>\n",
       "      <td>3150</td>\n",
       "      <td>...</td>\n",
       "      <td>South-Eastern Metropolitan</td>\n",
       "      <td>7392</td>\n",
       "      <td>0</td>\n",
       "      <td>1</td>\n",
       "      <td>0</td>\n",
       "      <td>0</td>\n",
       "      <td>0</td>\n",
       "      <td>1</td>\n",
       "      <td>0</td>\n",
       "      <td>0</td>\n",
       "    </tr>\n",
       "    <tr>\n",
       "      <th>13576</th>\n",
       "      <td>Williamstown</td>\n",
       "      <td>77 Merrett Dr</td>\n",
       "      <td>3</td>\n",
       "      <td>h</td>\n",
       "      <td>1031000</td>\n",
       "      <td>SP</td>\n",
       "      <td>Williams</td>\n",
       "      <td>26/08/2017</td>\n",
       "      <td>6.8</td>\n",
       "      <td>3016</td>\n",
       "      <td>...</td>\n",
       "      <td>Western Metropolitan</td>\n",
       "      <td>6380</td>\n",
       "      <td>0</td>\n",
       "      <td>0</td>\n",
       "      <td>0</td>\n",
       "      <td>1</td>\n",
       "      <td>0</td>\n",
       "      <td>1</td>\n",
       "      <td>0</td>\n",
       "      <td>0</td>\n",
       "    </tr>\n",
       "    <tr>\n",
       "      <th>13577</th>\n",
       "      <td>Williamstown</td>\n",
       "      <td>83 Power St</td>\n",
       "      <td>3</td>\n",
       "      <td>h</td>\n",
       "      <td>1170000</td>\n",
       "      <td>S</td>\n",
       "      <td>Raine</td>\n",
       "      <td>26/08/2017</td>\n",
       "      <td>6.8</td>\n",
       "      <td>3016</td>\n",
       "      <td>...</td>\n",
       "      <td>Western Metropolitan</td>\n",
       "      <td>6380</td>\n",
       "      <td>0</td>\n",
       "      <td>1</td>\n",
       "      <td>0</td>\n",
       "      <td>0</td>\n",
       "      <td>0</td>\n",
       "      <td>1</td>\n",
       "      <td>0</td>\n",
       "      <td>0</td>\n",
       "    </tr>\n",
       "    <tr>\n",
       "      <th>13578</th>\n",
       "      <td>Williamstown</td>\n",
       "      <td>96 Verdon St</td>\n",
       "      <td>4</td>\n",
       "      <td>h</td>\n",
       "      <td>2500000</td>\n",
       "      <td>PI</td>\n",
       "      <td>Sweeney</td>\n",
       "      <td>26/08/2017</td>\n",
       "      <td>6.8</td>\n",
       "      <td>3016</td>\n",
       "      <td>...</td>\n",
       "      <td>Western Metropolitan</td>\n",
       "      <td>6380</td>\n",
       "      <td>1</td>\n",
       "      <td>0</td>\n",
       "      <td>0</td>\n",
       "      <td>0</td>\n",
       "      <td>0</td>\n",
       "      <td>1</td>\n",
       "      <td>0</td>\n",
       "      <td>0</td>\n",
       "    </tr>\n",
       "    <tr>\n",
       "      <th>13579</th>\n",
       "      <td>Yarraville</td>\n",
       "      <td>6 Agnes St</td>\n",
       "      <td>4</td>\n",
       "      <td>h</td>\n",
       "      <td>1285000</td>\n",
       "      <td>SP</td>\n",
       "      <td>Village</td>\n",
       "      <td>26/08/2017</td>\n",
       "      <td>6.3</td>\n",
       "      <td>3013</td>\n",
       "      <td>...</td>\n",
       "      <td>Western Metropolitan</td>\n",
       "      <td>6543</td>\n",
       "      <td>0</td>\n",
       "      <td>0</td>\n",
       "      <td>0</td>\n",
       "      <td>1</td>\n",
       "      <td>0</td>\n",
       "      <td>1</td>\n",
       "      <td>0</td>\n",
       "      <td>0</td>\n",
       "    </tr>\n",
       "  </tbody>\n",
       "</table>\n",
       "<p>13580 rows × 29 columns</p>\n",
       "</div>"
      ],
      "text/plain": [
       "              Suburb           Address  Rooms Type    Price Method   SellerG  \\\n",
       "0         Abbotsford      85 Turner St      2    h  1480000      S    Biggin   \n",
       "1         Abbotsford   25 Bloomburg St      2    h  1035000      S    Biggin   \n",
       "2         Abbotsford      5 Charles St      3    h  1465000     SP    Biggin   \n",
       "3         Abbotsford  40 Federation La      3    h   850000     PI    Biggin   \n",
       "4         Abbotsford       55a Park St      4    h  1600000     VB    Nelson   \n",
       "...              ...               ...    ...  ...      ...    ...       ...   \n",
       "13575  Wheelers Hill      12 Strada Cr      4    h  1245000      S     Barry   \n",
       "13576   Williamstown     77 Merrett Dr      3    h  1031000     SP  Williams   \n",
       "13577   Williamstown       83 Power St      3    h  1170000      S     Raine   \n",
       "13578   Williamstown      96 Verdon St      4    h  2500000     PI   Sweeney   \n",
       "13579     Yarraville        6 Agnes St      4    h  1285000     SP   Village   \n",
       "\n",
       "             Date  Distance  Postcode  ...                  Regionname  \\\n",
       "0       3/12/2016       2.5      3067  ...       Northern Metropolitan   \n",
       "1        4/2/2016       2.5      3067  ...       Northern Metropolitan   \n",
       "2        4/3/2017       2.5      3067  ...       Northern Metropolitan   \n",
       "3        4/3/2017       2.5      3067  ...       Northern Metropolitan   \n",
       "4        4/6/2016       2.5      3067  ...       Northern Metropolitan   \n",
       "...           ...       ...       ...  ...                         ...   \n",
       "13575  26/08/2017      16.7      3150  ...  South-Eastern Metropolitan   \n",
       "13576  26/08/2017       6.8      3016  ...        Western Metropolitan   \n",
       "13577  26/08/2017       6.8      3016  ...        Western Metropolitan   \n",
       "13578  26/08/2017       6.8      3016  ...        Western Metropolitan   \n",
       "13579  26/08/2017       6.3      3013  ...        Western Metropolitan   \n",
       "\n",
       "       Propertycount  PI  S  SA  SP VB  h  t  u  \n",
       "0               4019   0  1   0   0  0  1  0  0  \n",
       "1               4019   0  1   0   0  0  1  0  0  \n",
       "2               4019   0  0   0   1  0  1  0  0  \n",
       "3               4019   1  0   0   0  0  1  0  0  \n",
       "4               4019   0  0   0   0  1  1  0  0  \n",
       "...              ...  .. ..  ..  .. .. .. .. ..  \n",
       "13575           7392   0  1   0   0  0  1  0  0  \n",
       "13576           6380   0  0   0   1  0  1  0  0  \n",
       "13577           6380   0  1   0   0  0  1  0  0  \n",
       "13578           6380   1  0   0   0  0  1  0  0  \n",
       "13579           6543   0  0   0   1  0  1  0  0  \n",
       "\n",
       "[13580 rows x 29 columns]"
      ]
     },
     "execution_count": 974,
     "metadata": {},
     "output_type": "execute_result"
    }
   ],
   "source": [
    "melbdata"
   ]
  },
  {
   "cell_type": "code",
   "execution_count": 975,
   "id": "a3ec46da",
   "metadata": {},
   "outputs": [
    {
     "data": {
      "text/plain": [
       "Suburb              0\n",
       "Address             0\n",
       "Rooms               0\n",
       "Type                0\n",
       "Price               0\n",
       "Method              0\n",
       "SellerG             0\n",
       "Date                0\n",
       "Distance            0\n",
       "Postcode            0\n",
       "Bedroom2            0\n",
       "Bathroom            0\n",
       "Car                 9\n",
       "Landsize            0\n",
       "BuildingArea     6450\n",
       "YearBuilt        5375\n",
       "CouncilArea      1369\n",
       "Lattitude           0\n",
       "Longtitude          0\n",
       "Regionname          0\n",
       "Propertycount       0\n",
       "PI                  0\n",
       "S                   0\n",
       "SA                  0\n",
       "SP                  0\n",
       "VB                  0\n",
       "h                   0\n",
       "t                   0\n",
       "u                   0\n",
       "dtype: int64"
      ]
     },
     "execution_count": 975,
     "metadata": {},
     "output_type": "execute_result"
    }
   ],
   "source": [
    "melbdata.isnull().sum()"
   ]
  },
  {
   "cell_type": "markdown",
   "id": "87ab69dd",
   "metadata": {},
   "source": [
    "## Clean Dataset"
   ]
  },
  {
   "cell_type": "markdown",
   "id": "c2cb6cfe",
   "metadata": {},
   "source": [
    "I had to drop some columns that i had no use of such as \"Method\" and \"Type\" because i already previously transformed the data.\n",
    "I dropped columns such as \"Address\" and \"SellerG\" because it had no use during the regression.\n"
   ]
  },
  {
   "cell_type": "code",
   "execution_count": 976,
   "id": "64ae253b",
   "metadata": {},
   "outputs": [],
   "source": [
    "imputdataset=melbdata.copy()"
   ]
  },
  {
   "cell_type": "code",
   "execution_count": 977,
   "id": "8031e643",
   "metadata": {},
   "outputs": [],
   "source": [
    "melbdata.drop(columns=[\"CouncilArea\",\"Address\",\"Type\",\"Method\",\"SellerG\"],axis=1, inplace=True)"
   ]
  },
  {
   "cell_type": "code",
   "execution_count": 978,
   "id": "e9951c30",
   "metadata": {},
   "outputs": [
    {
     "data": {
      "text/plain": [
       "Suburb              0\n",
       "Rooms               0\n",
       "Price               0\n",
       "Date                0\n",
       "Distance            0\n",
       "Postcode            0\n",
       "Bedroom2            0\n",
       "Bathroom            0\n",
       "Car                 9\n",
       "Landsize            0\n",
       "BuildingArea     6450\n",
       "YearBuilt        5375\n",
       "Lattitude           0\n",
       "Longtitude          0\n",
       "Regionname          0\n",
       "Propertycount       0\n",
       "PI                  0\n",
       "S                   0\n",
       "SA                  0\n",
       "SP                  0\n",
       "VB                  0\n",
       "h                   0\n",
       "t                   0\n",
       "u                   0\n",
       "dtype: int64"
      ]
     },
     "execution_count": 978,
     "metadata": {},
     "output_type": "execute_result"
    }
   ],
   "source": [
    "melbdata.isnull().sum()"
   ]
  },
  {
   "cell_type": "markdown",
   "id": "22ddd9aa",
   "metadata": {},
   "source": [
    "### Heatmap to indicate the missing values"
   ]
  },
  {
   "cell_type": "code",
   "execution_count": 979,
   "id": "179440c0",
   "metadata": {},
   "outputs": [
    {
     "data": {
      "text/plain": [
       "Text(0.5, 1.0, 'Missing Data Heatmap')"
      ]
     },
     "execution_count": 979,
     "metadata": {},
     "output_type": "execute_result"
    },
    {
     "data": {
      "image/png": "[encoded data removed]",
      "text/plain": [
       "<Figure size 864x360 with 2 Axes>"
      ]
     },
     "metadata": {
      "needs_background": "light"
     },
     "output_type": "display_data"
    }
   ],
   "source": [
    "plt.figure(figsize=(12,5))\n",
    "sns.heatmap(melbdata.isnull())\n",
    "plt.title(\"Missing Data Heatmap\")"
   ]
  },
  {
   "cell_type": "markdown",
   "id": "2e02b8b8",
   "metadata": {},
   "source": [
    "There is missing data in the Building Area column and the Council Are column too"
   ]
  },
  {
   "cell_type": "code",
   "execution_count": 980,
   "id": "8ac18cf7",
   "metadata": {},
   "outputs": [
    {
     "data": {
      "text/html": [
       "<div>\n",
       "<style scoped>\n",
       "    .dataframe tbody tr th:only-of-type {\n",
       "        vertical-align: middle;\n",
       "    }\n",
       "\n",
       "    .dataframe tbody tr th {\n",
       "        vertical-align: top;\n",
       "    }\n",
       "\n",
       "    .dataframe thead th {\n",
       "        text-align: right;\n",
       "    }\n",
       "</style>\n",
       "<table border=\"1\" class=\"dataframe\">\n",
       "  <thead>\n",
       "    <tr style=\"text-align: right;\">\n",
       "      <th></th>\n",
       "      <th>Suburb</th>\n",
       "      <th>Rooms</th>\n",
       "      <th>Price</th>\n",
       "      <th>Date</th>\n",
       "      <th>Distance</th>\n",
       "      <th>Postcode</th>\n",
       "      <th>Bedroom2</th>\n",
       "      <th>Bathroom</th>\n",
       "      <th>Car</th>\n",
       "      <th>Landsize</th>\n",
       "      <th>...</th>\n",
       "      <th>Regionname</th>\n",
       "      <th>Propertycount</th>\n",
       "      <th>PI</th>\n",
       "      <th>S</th>\n",
       "      <th>SA</th>\n",
       "      <th>SP</th>\n",
       "      <th>VB</th>\n",
       "      <th>h</th>\n",
       "      <th>t</th>\n",
       "      <th>u</th>\n",
       "    </tr>\n",
       "  </thead>\n",
       "  <tbody>\n",
       "    <tr>\n",
       "      <th>0</th>\n",
       "      <td>Abbotsford</td>\n",
       "      <td>2</td>\n",
       "      <td>1480000</td>\n",
       "      <td>3/12/2016</td>\n",
       "      <td>2.5</td>\n",
       "      <td>3067</td>\n",
       "      <td>2</td>\n",
       "      <td>1</td>\n",
       "      <td>1.0</td>\n",
       "      <td>202</td>\n",
       "      <td>...</td>\n",
       "      <td>Northern Metropolitan</td>\n",
       "      <td>4019</td>\n",
       "      <td>0</td>\n",
       "      <td>1</td>\n",
       "      <td>0</td>\n",
       "      <td>0</td>\n",
       "      <td>0</td>\n",
       "      <td>1</td>\n",
       "      <td>0</td>\n",
       "      <td>0</td>\n",
       "    </tr>\n",
       "    <tr>\n",
       "      <th>1</th>\n",
       "      <td>Abbotsford</td>\n",
       "      <td>2</td>\n",
       "      <td>1035000</td>\n",
       "      <td>4/2/2016</td>\n",
       "      <td>2.5</td>\n",
       "      <td>3067</td>\n",
       "      <td>2</td>\n",
       "      <td>1</td>\n",
       "      <td>1.0</td>\n",
       "      <td>156</td>\n",
       "      <td>...</td>\n",
       "      <td>Northern Metropolitan</td>\n",
       "      <td>4019</td>\n",
       "      <td>0</td>\n",
       "      <td>1</td>\n",
       "      <td>0</td>\n",
       "      <td>0</td>\n",
       "      <td>0</td>\n",
       "      <td>1</td>\n",
       "      <td>0</td>\n",
       "      <td>0</td>\n",
       "    </tr>\n",
       "    <tr>\n",
       "      <th>2</th>\n",
       "      <td>Abbotsford</td>\n",
       "      <td>3</td>\n",
       "      <td>1465000</td>\n",
       "      <td>4/3/2017</td>\n",
       "      <td>2.5</td>\n",
       "      <td>3067</td>\n",
       "      <td>3</td>\n",
       "      <td>2</td>\n",
       "      <td>1.0</td>\n",
       "      <td>134</td>\n",
       "      <td>...</td>\n",
       "      <td>Northern Metropolitan</td>\n",
       "      <td>4019</td>\n",
       "      <td>0</td>\n",
       "      <td>0</td>\n",
       "      <td>0</td>\n",
       "      <td>1</td>\n",
       "      <td>0</td>\n",
       "      <td>1</td>\n",
       "      <td>0</td>\n",
       "      <td>0</td>\n",
       "    </tr>\n",
       "    <tr>\n",
       "      <th>3</th>\n",
       "      <td>Abbotsford</td>\n",
       "      <td>3</td>\n",
       "      <td>850000</td>\n",
       "      <td>4/3/2017</td>\n",
       "      <td>2.5</td>\n",
       "      <td>3067</td>\n",
       "      <td>3</td>\n",
       "      <td>2</td>\n",
       "      <td>1.0</td>\n",
       "      <td>94</td>\n",
       "      <td>...</td>\n",
       "      <td>Northern Metropolitan</td>\n",
       "      <td>4019</td>\n",
       "      <td>1</td>\n",
       "      <td>0</td>\n",
       "      <td>0</td>\n",
       "      <td>0</td>\n",
       "      <td>0</td>\n",
       "      <td>1</td>\n",
       "      <td>0</td>\n",
       "      <td>0</td>\n",
       "    </tr>\n",
       "    <tr>\n",
       "      <th>4</th>\n",
       "      <td>Abbotsford</td>\n",
       "      <td>4</td>\n",
       "      <td>1600000</td>\n",
       "      <td>4/6/2016</td>\n",
       "      <td>2.5</td>\n",
       "      <td>3067</td>\n",
       "      <td>3</td>\n",
       "      <td>1</td>\n",
       "      <td>1.0</td>\n",
       "      <td>120</td>\n",
       "      <td>...</td>\n",
       "      <td>Northern Metropolitan</td>\n",
       "      <td>4019</td>\n",
       "      <td>0</td>\n",
       "      <td>0</td>\n",
       "      <td>0</td>\n",
       "      <td>0</td>\n",
       "      <td>1</td>\n",
       "      <td>1</td>\n",
       "      <td>0</td>\n",
       "      <td>0</td>\n",
       "    </tr>\n",
       "  </tbody>\n",
       "</table>\n",
       "<p>5 rows × 24 columns</p>\n",
       "</div>"
      ],
      "text/plain": [
       "       Suburb  Rooms    Price       Date  Distance  Postcode  Bedroom2  \\\n",
       "0  Abbotsford      2  1480000  3/12/2016       2.5      3067         2   \n",
       "1  Abbotsford      2  1035000   4/2/2016       2.5      3067         2   \n",
       "2  Abbotsford      3  1465000   4/3/2017       2.5      3067         3   \n",
       "3  Abbotsford      3   850000   4/3/2017       2.5      3067         3   \n",
       "4  Abbotsford      4  1600000   4/6/2016       2.5      3067         3   \n",
       "\n",
       "   Bathroom  Car  Landsize  ...             Regionname  Propertycount  PI  S  \\\n",
       "0         1  1.0       202  ...  Northern Metropolitan           4019   0  1   \n",
       "1         1  1.0       156  ...  Northern Metropolitan           4019   0  1   \n",
       "2         2  1.0       134  ...  Northern Metropolitan           4019   0  0   \n",
       "3         2  1.0        94  ...  Northern Metropolitan           4019   1  0   \n",
       "4         1  1.0       120  ...  Northern Metropolitan           4019   0  0   \n",
       "\n",
       "  SA  SP  VB  h  t  u  \n",
       "0  0   0   0  1  0  0  \n",
       "1  0   0   0  1  0  0  \n",
       "2  0   1   0  1  0  0  \n",
       "3  0   0   0  1  0  0  \n",
       "4  0   0   1  1  0  0  \n",
       "\n",
       "[5 rows x 24 columns]"
      ]
     },
     "execution_count": 980,
     "metadata": {},
     "output_type": "execute_result"
    }
   ],
   "source": [
    "melbdata[\"BuildingArea\"] =melbdata[\"BuildingArea\"].fillna(method='bfill',axis=0)\n",
    "melbdata[\"YearBuilt\"] = melbdata[\"YearBuilt\"].astype(float , errors = 'raise')\n",
    "melbdata[\"YearBuilt\"] =melbdata[\"YearBuilt\"].fillna(method='bfill',axis=0)\n",
    "melbdata[\"Car\"] =melbdata[\"Car\"].fillna(method='bfill',axis=0)\n",
    "melbdata.head()\n"
   ]
  },
  {
   "cell_type": "code",
   "execution_count": 981,
   "id": "69bdbe03",
   "metadata": {},
   "outputs": [
    {
     "data": {
      "text/plain": [
       "Text(0.5, 1.0, 'Missing Data Heatmap')"
      ]
     },
     "execution_count": 981,
     "metadata": {},
     "output_type": "execute_result"
    },
    {
     "data": {
      "image/png": "[encoded data removed]",
      "text/plain": [
       "<Figure size 864x360 with 2 Axes>"
      ]
     },
     "metadata": {
      "needs_background": "light"
     },
     "output_type": "display_data"
    }
   ],
   "source": [
    "plt.figure(figsize=(12,5))\n",
    "sns.heatmap(melbdata.isnull())\n",
    "plt.title(\"Missing Data Heatmap\")"
   ]
  },
  {
   "cell_type": "code",
   "execution_count": 982,
   "id": "42b1ce00",
   "metadata": {},
   "outputs": [
    {
     "data": {
      "text/plain": [
       "Suburb           0\n",
       "Rooms            0\n",
       "Price            0\n",
       "Date             0\n",
       "Distance         0\n",
       "Postcode         0\n",
       "Bedroom2         0\n",
       "Bathroom         0\n",
       "Car              0\n",
       "Landsize         0\n",
       "BuildingArea     0\n",
       "YearBuilt        0\n",
       "Lattitude        0\n",
       "Longtitude       0\n",
       "Regionname       0\n",
       "Propertycount    0\n",
       "PI               0\n",
       "S                0\n",
       "SA               0\n",
       "SP               0\n",
       "VB               0\n",
       "h                0\n",
       "t                0\n",
       "u                0\n",
       "dtype: int64"
      ]
     },
     "execution_count": 982,
     "metadata": {},
     "output_type": "execute_result"
    }
   ],
   "source": [
    "melbdata.isnull().sum()"
   ]
  },
  {
   "cell_type": "markdown",
   "id": "63b0b1ed",
   "metadata": {},
   "source": [
    "No more missing data"
   ]
  },
  {
   "cell_type": "markdown",
   "id": "e7abddcc",
   "metadata": {},
   "source": [
    "## Train Data"
   ]
  },
  {
   "cell_type": "code",
   "execution_count": 983,
   "id": "92ddc286",
   "metadata": {
    "scrolled": true
   },
   "outputs": [
    {
     "data": {
      "text/html": [
       "<div>\n",
       "<style scoped>\n",
       "    .dataframe tbody tr th:only-of-type {\n",
       "        vertical-align: middle;\n",
       "    }\n",
       "\n",
       "    .dataframe tbody tr th {\n",
       "        vertical-align: top;\n",
       "    }\n",
       "\n",
       "    .dataframe thead th {\n",
       "        text-align: right;\n",
       "    }\n",
       "</style>\n",
       "<table border=\"1\" class=\"dataframe\">\n",
       "  <thead>\n",
       "    <tr style=\"text-align: right;\">\n",
       "      <th></th>\n",
       "      <th>Suburb</th>\n",
       "      <th>Rooms</th>\n",
       "      <th>Price</th>\n",
       "      <th>Date</th>\n",
       "      <th>Distance</th>\n",
       "      <th>Postcode</th>\n",
       "      <th>Bedroom2</th>\n",
       "      <th>Bathroom</th>\n",
       "      <th>Car</th>\n",
       "      <th>Landsize</th>\n",
       "      <th>...</th>\n",
       "      <th>Regionname</th>\n",
       "      <th>Propertycount</th>\n",
       "      <th>PI</th>\n",
       "      <th>S</th>\n",
       "      <th>SA</th>\n",
       "      <th>SP</th>\n",
       "      <th>VB</th>\n",
       "      <th>h</th>\n",
       "      <th>t</th>\n",
       "      <th>u</th>\n",
       "    </tr>\n",
       "  </thead>\n",
       "  <tbody>\n",
       "    <tr>\n",
       "      <th>0</th>\n",
       "      <td>Abbotsford</td>\n",
       "      <td>2</td>\n",
       "      <td>1480000</td>\n",
       "      <td>3/12/2016</td>\n",
       "      <td>2.5</td>\n",
       "      <td>3067</td>\n",
       "      <td>2</td>\n",
       "      <td>1</td>\n",
       "      <td>1.0</td>\n",
       "      <td>202</td>\n",
       "      <td>...</td>\n",
       "      <td>Northern Metropolitan</td>\n",
       "      <td>4019</td>\n",
       "      <td>0</td>\n",
       "      <td>1</td>\n",
       "      <td>0</td>\n",
       "      <td>0</td>\n",
       "      <td>0</td>\n",
       "      <td>1</td>\n",
       "      <td>0</td>\n",
       "      <td>0</td>\n",
       "    </tr>\n",
       "    <tr>\n",
       "      <th>1</th>\n",
       "      <td>Abbotsford</td>\n",
       "      <td>2</td>\n",
       "      <td>1035000</td>\n",
       "      <td>4/2/2016</td>\n",
       "      <td>2.5</td>\n",
       "      <td>3067</td>\n",
       "      <td>2</td>\n",
       "      <td>1</td>\n",
       "      <td>1.0</td>\n",
       "      <td>156</td>\n",
       "      <td>...</td>\n",
       "      <td>Northern Metropolitan</td>\n",
       "      <td>4019</td>\n",
       "      <td>0</td>\n",
       "      <td>1</td>\n",
       "      <td>0</td>\n",
       "      <td>0</td>\n",
       "      <td>0</td>\n",
       "      <td>1</td>\n",
       "      <td>0</td>\n",
       "      <td>0</td>\n",
       "    </tr>\n",
       "  </tbody>\n",
       "</table>\n",
       "<p>2 rows × 24 columns</p>\n",
       "</div>"
      ],
      "text/plain": [
       "       Suburb  Rooms    Price       Date  Distance  Postcode  Bedroom2  \\\n",
       "0  Abbotsford      2  1480000  3/12/2016       2.5      3067         2   \n",
       "1  Abbotsford      2  1035000   4/2/2016       2.5      3067         2   \n",
       "\n",
       "   Bathroom  Car  Landsize  ...             Regionname  Propertycount  PI  S  \\\n",
       "0         1  1.0       202  ...  Northern Metropolitan           4019   0  1   \n",
       "1         1  1.0       156  ...  Northern Metropolitan           4019   0  1   \n",
       "\n",
       "  SA  SP  VB  h  t  u  \n",
       "0  0   0   0  1  0  0  \n",
       "1  0   0   0  1  0  0  \n",
       "\n",
       "[2 rows x 24 columns]"
      ]
     },
     "execution_count": 983,
     "metadata": {},
     "output_type": "execute_result"
    }
   ],
   "source": [
    "melbdata.head(2)"
   ]
  },
  {
   "cell_type": "markdown",
   "id": "3e2ba732",
   "metadata": {},
   "source": [
    "We need to make sure all our Variables are valid for use in our models"
   ]
  },
  {
   "cell_type": "code",
   "execution_count": 984,
   "id": "9332d9a5",
   "metadata": {},
   "outputs": [
    {
     "name": "stdout",
     "output_type": "stream",
     "text": [
      "Rooms  variable datatype is: int64\n",
      "Distance  variable datatype is: float64\n",
      "Postcode  variable datatype is: int64\n",
      "Bedroom2  variable datatype is: int64\n",
      "Bathroom  variable datatype is: int64\n",
      "Car  variable datatype is: float64\n",
      "Landsize  variable datatype is: int64\n",
      "BuildingArea  variable datatype is: float64\n",
      "YearBuilt  variable datatype is: float64\n",
      "Lattitude  variable datatype is: float64\n",
      "Longtitude  variable datatype is: float64\n",
      "Propertycount  variable datatype is: int64\n",
      "PI  variable datatype is: uint8\n",
      "S  variable datatype is: uint8\n",
      "SA  variable datatype is: uint8\n",
      "SP  variable datatype is: uint8\n",
      "VB  variable datatype is: uint8\n",
      "h  variable datatype is: uint8\n",
      "t  variable datatype is: uint8\n",
      "u  variable datatype is: uint8\n"
     ]
    }
   ],
   "source": [
    "features=melbdata.drop(columns=[\"Suburb\", \"Date\",\"Regionname\",\"Price\"],axis=1)\n",
    "for feat in features:\n",
    "    print(feat,\" variable datatype is:\",features[feat].dtype)"
   ]
  },
  {
   "cell_type": "code",
   "execution_count": 985,
   "id": "6de411ed",
   "metadata": {},
   "outputs": [
    {
     "data": {
      "text/html": [
       "<div>\n",
       "<style scoped>\n",
       "    .dataframe tbody tr th:only-of-type {\n",
       "        vertical-align: middle;\n",
       "    }\n",
       "\n",
       "    .dataframe tbody tr th {\n",
       "        vertical-align: top;\n",
       "    }\n",
       "\n",
       "    .dataframe thead th {\n",
       "        text-align: right;\n",
       "    }\n",
       "</style>\n",
       "<table border=\"1\" class=\"dataframe\">\n",
       "  <thead>\n",
       "    <tr style=\"text-align: right;\">\n",
       "      <th></th>\n",
       "      <th>Rooms</th>\n",
       "      <th>Distance</th>\n",
       "      <th>Postcode</th>\n",
       "      <th>Bedroom2</th>\n",
       "      <th>Bathroom</th>\n",
       "      <th>Car</th>\n",
       "      <th>Landsize</th>\n",
       "      <th>BuildingArea</th>\n",
       "      <th>YearBuilt</th>\n",
       "      <th>Lattitude</th>\n",
       "      <th>Longtitude</th>\n",
       "      <th>Propertycount</th>\n",
       "      <th>PI</th>\n",
       "      <th>S</th>\n",
       "      <th>SA</th>\n",
       "      <th>SP</th>\n",
       "      <th>VB</th>\n",
       "      <th>h</th>\n",
       "      <th>t</th>\n",
       "      <th>u</th>\n",
       "    </tr>\n",
       "  </thead>\n",
       "  <tbody>\n",
       "    <tr>\n",
       "      <th>13570</th>\n",
       "      <td>3</td>\n",
       "      <td>14.7</td>\n",
       "      <td>3152</td>\n",
       "      <td>3</td>\n",
       "      <td>2</td>\n",
       "      <td>2.0</td>\n",
       "      <td>674</td>\n",
       "      <td>191.0</td>\n",
       "      <td>1980.0</td>\n",
       "      <td>-37.884</td>\n",
       "      <td>145.228</td>\n",
       "      <td>7082</td>\n",
       "      <td>0</td>\n",
       "      <td>1</td>\n",
       "      <td>0</td>\n",
       "      <td>0</td>\n",
       "      <td>0</td>\n",
       "      <td>1</td>\n",
       "      <td>0</td>\n",
       "      <td>0</td>\n",
       "    </tr>\n",
       "    <tr>\n",
       "      <th>13571</th>\n",
       "      <td>4</td>\n",
       "      <td>14.7</td>\n",
       "      <td>3152</td>\n",
       "      <td>4</td>\n",
       "      <td>2</td>\n",
       "      <td>2.0</td>\n",
       "      <td>717</td>\n",
       "      <td>191.0</td>\n",
       "      <td>1980.0</td>\n",
       "      <td>-37.869</td>\n",
       "      <td>145.221</td>\n",
       "      <td>7082</td>\n",
       "      <td>0</td>\n",
       "      <td>1</td>\n",
       "      <td>0</td>\n",
       "      <td>0</td>\n",
       "      <td>0</td>\n",
       "      <td>1</td>\n",
       "      <td>0</td>\n",
       "      <td>0</td>\n",
       "    </tr>\n",
       "    <tr>\n",
       "      <th>13572</th>\n",
       "      <td>2</td>\n",
       "      <td>14.5</td>\n",
       "      <td>3087</td>\n",
       "      <td>2</td>\n",
       "      <td>1</td>\n",
       "      <td>1.0</td>\n",
       "      <td>210</td>\n",
       "      <td>79.0</td>\n",
       "      <td>2006.0</td>\n",
       "      <td>-37.707</td>\n",
       "      <td>145.079</td>\n",
       "      <td>2329</td>\n",
       "      <td>1</td>\n",
       "      <td>0</td>\n",
       "      <td>0</td>\n",
       "      <td>0</td>\n",
       "      <td>0</td>\n",
       "      <td>1</td>\n",
       "      <td>0</td>\n",
       "      <td>0</td>\n",
       "    </tr>\n",
       "    <tr>\n",
       "      <th>13573</th>\n",
       "      <td>4</td>\n",
       "      <td>14.7</td>\n",
       "      <td>3030</td>\n",
       "      <td>4</td>\n",
       "      <td>2</td>\n",
       "      <td>1.0</td>\n",
       "      <td>662</td>\n",
       "      <td>172.0</td>\n",
       "      <td>1980.0</td>\n",
       "      <td>-37.893</td>\n",
       "      <td>144.648</td>\n",
       "      <td>16166</td>\n",
       "      <td>0</td>\n",
       "      <td>1</td>\n",
       "      <td>0</td>\n",
       "      <td>0</td>\n",
       "      <td>0</td>\n",
       "      <td>1</td>\n",
       "      <td>0</td>\n",
       "      <td>0</td>\n",
       "    </tr>\n",
       "    <tr>\n",
       "      <th>13574</th>\n",
       "      <td>3</td>\n",
       "      <td>16.5</td>\n",
       "      <td>3049</td>\n",
       "      <td>3</td>\n",
       "      <td>2</td>\n",
       "      <td>2.0</td>\n",
       "      <td>256</td>\n",
       "      <td>133.0</td>\n",
       "      <td>1981.0</td>\n",
       "      <td>-37.679</td>\n",
       "      <td>144.894</td>\n",
       "      <td>2474</td>\n",
       "      <td>0</td>\n",
       "      <td>1</td>\n",
       "      <td>0</td>\n",
       "      <td>0</td>\n",
       "      <td>0</td>\n",
       "      <td>1</td>\n",
       "      <td>0</td>\n",
       "      <td>0</td>\n",
       "    </tr>\n",
       "    <tr>\n",
       "      <th>13575</th>\n",
       "      <td>4</td>\n",
       "      <td>16.7</td>\n",
       "      <td>3150</td>\n",
       "      <td>4</td>\n",
       "      <td>2</td>\n",
       "      <td>2.0</td>\n",
       "      <td>652</td>\n",
       "      <td>133.0</td>\n",
       "      <td>1981.0</td>\n",
       "      <td>-37.906</td>\n",
       "      <td>145.168</td>\n",
       "      <td>7392</td>\n",
       "      <td>0</td>\n",
       "      <td>1</td>\n",
       "      <td>0</td>\n",
       "      <td>0</td>\n",
       "      <td>0</td>\n",
       "      <td>1</td>\n",
       "      <td>0</td>\n",
       "      <td>0</td>\n",
       "    </tr>\n",
       "    <tr>\n",
       "      <th>13576</th>\n",
       "      <td>3</td>\n",
       "      <td>6.8</td>\n",
       "      <td>3016</td>\n",
       "      <td>3</td>\n",
       "      <td>2</td>\n",
       "      <td>2.0</td>\n",
       "      <td>333</td>\n",
       "      <td>133.0</td>\n",
       "      <td>1995.0</td>\n",
       "      <td>-37.859</td>\n",
       "      <td>144.879</td>\n",
       "      <td>6380</td>\n",
       "      <td>0</td>\n",
       "      <td>0</td>\n",
       "      <td>0</td>\n",
       "      <td>1</td>\n",
       "      <td>0</td>\n",
       "      <td>1</td>\n",
       "      <td>0</td>\n",
       "      <td>0</td>\n",
       "    </tr>\n",
       "    <tr>\n",
       "      <th>13577</th>\n",
       "      <td>3</td>\n",
       "      <td>6.8</td>\n",
       "      <td>3016</td>\n",
       "      <td>3</td>\n",
       "      <td>2</td>\n",
       "      <td>4.0</td>\n",
       "      <td>436</td>\n",
       "      <td>157.0</td>\n",
       "      <td>1997.0</td>\n",
       "      <td>-37.853</td>\n",
       "      <td>144.887</td>\n",
       "      <td>6380</td>\n",
       "      <td>0</td>\n",
       "      <td>1</td>\n",
       "      <td>0</td>\n",
       "      <td>0</td>\n",
       "      <td>0</td>\n",
       "      <td>1</td>\n",
       "      <td>0</td>\n",
       "      <td>0</td>\n",
       "    </tr>\n",
       "    <tr>\n",
       "      <th>13578</th>\n",
       "      <td>4</td>\n",
       "      <td>6.8</td>\n",
       "      <td>3016</td>\n",
       "      <td>4</td>\n",
       "      <td>1</td>\n",
       "      <td>5.0</td>\n",
       "      <td>866</td>\n",
       "      <td>157.0</td>\n",
       "      <td>1920.0</td>\n",
       "      <td>-37.859</td>\n",
       "      <td>144.893</td>\n",
       "      <td>6380</td>\n",
       "      <td>1</td>\n",
       "      <td>0</td>\n",
       "      <td>0</td>\n",
       "      <td>0</td>\n",
       "      <td>0</td>\n",
       "      <td>1</td>\n",
       "      <td>0</td>\n",
       "      <td>0</td>\n",
       "    </tr>\n",
       "    <tr>\n",
       "      <th>13579</th>\n",
       "      <td>4</td>\n",
       "      <td>6.3</td>\n",
       "      <td>3013</td>\n",
       "      <td>4</td>\n",
       "      <td>1</td>\n",
       "      <td>1.0</td>\n",
       "      <td>362</td>\n",
       "      <td>112.0</td>\n",
       "      <td>1920.0</td>\n",
       "      <td>-37.812</td>\n",
       "      <td>144.884</td>\n",
       "      <td>6543</td>\n",
       "      <td>0</td>\n",
       "      <td>0</td>\n",
       "      <td>0</td>\n",
       "      <td>1</td>\n",
       "      <td>0</td>\n",
       "      <td>1</td>\n",
       "      <td>0</td>\n",
       "      <td>0</td>\n",
       "    </tr>\n",
       "  </tbody>\n",
       "</table>\n",
       "</div>"
      ],
      "text/plain": [
       "       Rooms  Distance  Postcode  Bedroom2  Bathroom  Car  Landsize  \\\n",
       "13570      3      14.7      3152         3         2  2.0       674   \n",
       "13571      4      14.7      3152         4         2  2.0       717   \n",
       "13572      2      14.5      3087         2         1  1.0       210   \n",
       "13573      4      14.7      3030         4         2  1.0       662   \n",
       "13574      3      16.5      3049         3         2  2.0       256   \n",
       "13575      4      16.7      3150         4         2  2.0       652   \n",
       "13576      3       6.8      3016         3         2  2.0       333   \n",
       "13577      3       6.8      3016         3         2  4.0       436   \n",
       "13578      4       6.8      3016         4         1  5.0       866   \n",
       "13579      4       6.3      3013         4         1  1.0       362   \n",
       "\n",
       "       BuildingArea  YearBuilt  Lattitude  Longtitude  Propertycount  PI  S  \\\n",
       "13570         191.0     1980.0    -37.884     145.228           7082   0  1   \n",
       "13571         191.0     1980.0    -37.869     145.221           7082   0  1   \n",
       "13572          79.0     2006.0    -37.707     145.079           2329   1  0   \n",
       "13573         172.0     1980.0    -37.893     144.648          16166   0  1   \n",
       "13574         133.0     1981.0    -37.679     144.894           2474   0  1   \n",
       "13575         133.0     1981.0    -37.906     145.168           7392   0  1   \n",
       "13576         133.0     1995.0    -37.859     144.879           6380   0  0   \n",
       "13577         157.0     1997.0    -37.853     144.887           6380   0  1   \n",
       "13578         157.0     1920.0    -37.859     144.893           6380   1  0   \n",
       "13579         112.0     1920.0    -37.812     144.884           6543   0  0   \n",
       "\n",
       "       SA  SP  VB  h  t  u  \n",
       "13570   0   0   0  1  0  0  \n",
       "13571   0   0   0  1  0  0  \n",
       "13572   0   0   0  1  0  0  \n",
       "13573   0   0   0  1  0  0  \n",
       "13574   0   0   0  1  0  0  \n",
       "13575   0   0   0  1  0  0  \n",
       "13576   0   1   0  1  0  0  \n",
       "13577   0   0   0  1  0  0  \n",
       "13578   0   0   0  1  0  0  \n",
       "13579   0   1   0  1  0  0  "
      ]
     },
     "execution_count": 985,
     "metadata": {},
     "output_type": "execute_result"
    }
   ],
   "source": [
    "features.tail(10)"
   ]
  },
  {
   "cell_type": "code",
   "execution_count": 986,
   "id": "cb3bf0b7",
   "metadata": {},
   "outputs": [],
   "source": [
    "X=features\n",
    "y=melbdata[\"Price\"]"
   ]
  },
  {
   "cell_type": "markdown",
   "id": "ef20b98d",
   "metadata": {},
   "source": [
    "Separate the train and test dataset\n",
    "\n",
    "Set the testsize to 0.2 for better Result"
   ]
  },
  {
   "cell_type": "code",
   "execution_count": 987,
   "id": "72a1c4be",
   "metadata": {},
   "outputs": [],
   "source": [
    "from sklearn.model_selection import train_test_split\n",
    "X_train, X_test, y_train, y_test = train_test_split(X, y, test_size=0.2, random_state=0)"
   ]
  },
  {
   "cell_type": "markdown",
   "id": "bde56bf3",
   "metadata": {},
   "source": [
    "Fit the Linear Regression model\n",
    "\n",
    "Fit the data\n",
    "\n",
    "Predict using the Linear Regression model\n"
   ]
  },
  {
   "cell_type": "code",
   "execution_count": 988,
   "id": "bea3c2a7",
   "metadata": {},
   "outputs": [],
   "source": [
    "from sklearn.linear_model import LinearRegression\n",
    "lgmodel=LinearRegression()\n",
    "lgmodel.fit(X_train,y_train)\n",
    "lgpreds=lgmodel.predict(X_test)"
   ]
  },
  {
   "cell_type": "markdown",
   "id": "9786e615",
   "metadata": {},
   "source": [
    "Get the Mean Absolute Error of the Linear Regression Model"
   ]
  },
  {
   "cell_type": "code",
   "execution_count": 989,
   "id": "479de4c8",
   "metadata": {},
   "outputs": [
    {
     "data": {
      "text/plain": [
       "273985.33795985946"
      ]
     },
     "execution_count": 989,
     "metadata": {},
     "output_type": "execute_result"
    }
   ],
   "source": [
    "from sklearn.metrics import mean_absolute_error\n",
    "lgmerror=mean_absolute_error(y_test,lgpreds)\n",
    "lgmerror"
   ]
  },
  {
   "cell_type": "markdown",
   "id": "5adc2702",
   "metadata": {},
   "source": [
    "Fit the Random Forest model\n",
    "\n",
    "Fit the data\n",
    "\n",
    "Predict using the Random Forest model"
   ]
  },
  {
   "cell_type": "code",
   "execution_count": 990,
   "id": "3e7ce474",
   "metadata": {},
   "outputs": [],
   "source": [
    "from sklearn.ensemble import RandomForestRegressor\n",
    "rfmodel=RandomForestRegressor(n_estimators=16,random_state=0)\n",
    "rfmodel.fit(X_train,y_train)\n",
    "rfpreds=rfmodel.predict(X_test)"
   ]
  },
  {
   "cell_type": "markdown",
   "id": "d003cf0e",
   "metadata": {},
   "source": [
    "Get the Mean Absolute Error of the Random Forest Model"
   ]
  },
  {
   "cell_type": "code",
   "execution_count": 991,
   "id": "3e3f2909",
   "metadata": {},
   "outputs": [
    {
     "data": {
      "text/plain": [
       "169065.72688850024"
      ]
     },
     "execution_count": 991,
     "metadata": {},
     "output_type": "execute_result"
    }
   ],
   "source": [
    "rfmerror=mean_absolute_error(y_test,rfpreds)\n",
    "rfmerror"
   ]
  },
  {
   "cell_type": "code",
   "execution_count": 992,
   "id": "42dda12c",
   "metadata": {},
   "outputs": [
    {
     "name": "stdout",
     "output_type": "stream",
     "text": [
      "The Mean Absolute Error of the Linear Regression Model is:  273985.0\n",
      "The Mean Absolute Error of the Random Forest Model is:  169066.0\n"
     ]
    }
   ],
   "source": [
    "print(\"The Mean Absolute Error of the Linear Regression Model is: \",lgmerror.round())\n",
    "print(\"The Mean Absolute Error of the Random Forest Model is: \",rfmerror.round())"
   ]
  },
  {
   "cell_type": "code",
   "execution_count": 993,
   "id": "c82832ff",
   "metadata": {},
   "outputs": [
    {
     "data": {
      "text/plain": [
       "0.5669299639075716"
      ]
     },
     "execution_count": 993,
     "metadata": {},
     "output_type": "execute_result"
    }
   ],
   "source": [
    "l2_score = lgmodel.score(X,y)\n",
    "l2_score"
   ]
  },
  {
   "cell_type": "code",
   "execution_count": 994,
   "id": "809800e7",
   "metadata": {},
   "outputs": [
    {
     "data": {
      "text/plain": [
       "0.933476465607765"
      ]
     },
     "execution_count": 994,
     "metadata": {},
     "output_type": "execute_result"
    }
   ],
   "source": [
    "r2_score = rfmodel.score(X,y)\n",
    "r2_score"
   ]
  },
  {
   "cell_type": "markdown",
   "id": "ee2d0d11",
   "metadata": {},
   "source": [
    "The Random Forest Model is the better model for this problem with the lesser mean_absolute_error and a higher score"
   ]
  },
  {
   "cell_type": "markdown",
   "id": "5c4533e6",
   "metadata": {},
   "source": [
    "I believe the Random Forest Model performed better because because there is high non-linearity and a more complex relationship between the dependent and independent variables in the Data."
   ]
  },
  {
   "cell_type": "markdown",
   "id": "a0d3eac4",
   "metadata": {},
   "source": [
    "Remember that a Random Forest model can be used for both Regression and Classification problems."
   ]
  },
  {
   "cell_type": "markdown",
   "id": "cf06bfdf",
   "metadata": {},
   "source": [
    "### Thank you"
   ]
  },
  {
   "cell_type": "code",
   "execution_count": 995,
   "id": "f5cf5423",
   "metadata": {},
   "outputs": [
    {
     "data": {
      "text/plain": [
       "8505     2165000\n",
       "5523      815000\n",
       "12852     610000\n",
       "4818     1245000\n",
       "12812    1160000\n",
       "          ...   \n",
       "2664      305000\n",
       "8513     1412000\n",
       "12922    1230000\n",
       "10761    1270000\n",
       "2110     1000000\n",
       "Name: Price, Length: 2716, dtype: int64"
      ]
     },
     "execution_count": 995,
     "metadata": {},
     "output_type": "execute_result"
    }
   ],
   "source": [
    "y_test"
   ]
  },
  {
   "cell_type": "code",
   "execution_count": 996,
   "id": "2103d0aa",
   "metadata": {},
   "outputs": [
    {
     "data": {
      "text/plain": [
       "array([1578157.0607762 , 1033953.79099408,  690194.7962665 , ...,\n",
       "       1114049.63135669, 1357613.07057309, 1337705.43581492])"
      ]
     },
     "execution_count": 996,
     "metadata": {},
     "output_type": "execute_result"
    }
   ],
   "source": [
    "lgpreds"
   ]
  },
  {
   "cell_type": "code",
   "execution_count": 997,
   "id": "54c0e8db",
   "metadata": {},
   "outputs": [
    {
     "data": {
      "text/plain": [
       "array([1851555.5 ,  831075.  ,  687656.25, ..., 1381312.5 , 1249149.25,\n",
       "       1197968.75])"
      ]
     },
     "execution_count": 997,
     "metadata": {},
     "output_type": "execute_result"
    }
   ],
   "source": [
    "rfpreds"
   ]
  }
 ],
 "metadata": {
  "kernelspec": {
   "display_name": "Python 3 (ipykernel)",
   "language": "python",
   "name": "python3"
  },
  "language_info": {
   "codemirror_mode": {
    "name": "ipython",
    "version": 3
   },
   "file_extension": ".py",
   "mimetype": "text/x-python",
   "name": "python",
   "nbconvert_exporter": "python",
   "pygments_lexer": "ipython3",
   "version": "3.9.12"
  }
 },
 "nbformat": 4,
 "nbformat_minor": 5
}
